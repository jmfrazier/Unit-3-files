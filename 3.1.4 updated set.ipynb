{
 "cells": [
  {
   "cell_type": "markdown",
   "metadata": {},
   "source": [
    "## Challenge: Model Comparison\n",
    "In this notebook I will take a data seet and compare the KNN regression with an OLS regression to spot the difference between the two."
   ]
  },
  {
   "cell_type": "code",
   "execution_count": 2,
   "metadata": {
    "collapsed": true
   },
   "outputs": [],
   "source": [
    "import pandas as pd\n",
    "import numpy as np\n",
    "import scipy\n",
    "import matplotlib.pyplot as plt\n",
    "import seaborn as sns\n",
    "from sklearn.model_selection import train_test_split\n",
    "from sklearn import neighbors\n",
    "from sklearn.model_selection import cross_val_score\n",
    "from sklearn import linear_model\n",
    "%matplotlib inline"
   ]
  },
  {
   "cell_type": "code",
   "execution_count": 3,
   "metadata": {
    "collapsed": false
   },
   "outputs": [
    {
     "data": {
      "text/html": [
       "<div>\n",
       "<table border=\"1\" class=\"dataframe\">\n",
       "  <thead>\n",
       "    <tr style=\"text-align: right;\">\n",
       "      <th></th>\n",
       "      <th>City</th>\n",
       "      <th>Population</th>\n",
       "      <th>Violent\n",
       "crime</th>\n",
       "      <th>Murder and\n",
       "nonnegligent\n",
       "manslaughter</th>\n",
       "      <th>Rape\n",
       "(revised\n",
       "definition)1</th>\n",
       "      <th>Rape\n",
       "(legacy\n",
       "definition)2</th>\n",
       "      <th>Robbery</th>\n",
       "      <th>Aggravated\n",
       "assault</th>\n",
       "      <th>Property\n",
       "crime</th>\n",
       "      <th>Burglary</th>\n",
       "      <th>Larceny-\n",
       "theft</th>\n",
       "      <th>Motor\n",
       "vehicle\n",
       "theft</th>\n",
       "      <th>Arson3</th>\n",
       "      <th>Unnamed: 13</th>\n",
       "    </tr>\n",
       "  </thead>\n",
       "  <tbody>\n",
       "    <tr>\n",
       "      <th>0</th>\n",
       "      <td>Adams Village</td>\n",
       "      <td>1,861</td>\n",
       "      <td>0</td>\n",
       "      <td>0.0</td>\n",
       "      <td>NaN</td>\n",
       "      <td>0</td>\n",
       "      <td>0</td>\n",
       "      <td>0</td>\n",
       "      <td>12</td>\n",
       "      <td>2</td>\n",
       "      <td>10</td>\n",
       "      <td>0</td>\n",
       "      <td>0.0</td>\n",
       "      <td>NaN</td>\n",
       "    </tr>\n",
       "    <tr>\n",
       "      <th>1</th>\n",
       "      <td>Addison Town and Village</td>\n",
       "      <td>2,577</td>\n",
       "      <td>3</td>\n",
       "      <td>0.0</td>\n",
       "      <td>NaN</td>\n",
       "      <td>0</td>\n",
       "      <td>0</td>\n",
       "      <td>3</td>\n",
       "      <td>24</td>\n",
       "      <td>3</td>\n",
       "      <td>20</td>\n",
       "      <td>1</td>\n",
       "      <td>0.0</td>\n",
       "      <td>NaN</td>\n",
       "    </tr>\n",
       "    <tr>\n",
       "      <th>2</th>\n",
       "      <td>Akron Village</td>\n",
       "      <td>2,846</td>\n",
       "      <td>3</td>\n",
       "      <td>0.0</td>\n",
       "      <td>NaN</td>\n",
       "      <td>0</td>\n",
       "      <td>0</td>\n",
       "      <td>3</td>\n",
       "      <td>16</td>\n",
       "      <td>1</td>\n",
       "      <td>15</td>\n",
       "      <td>0</td>\n",
       "      <td>0.0</td>\n",
       "      <td>NaN</td>\n",
       "    </tr>\n",
       "    <tr>\n",
       "      <th>3</th>\n",
       "      <td>Albany</td>\n",
       "      <td>97,956</td>\n",
       "      <td>791</td>\n",
       "      <td>8.0</td>\n",
       "      <td>NaN</td>\n",
       "      <td>30</td>\n",
       "      <td>227</td>\n",
       "      <td>526</td>\n",
       "      <td>4,090</td>\n",
       "      <td>705</td>\n",
       "      <td>3,243</td>\n",
       "      <td>142</td>\n",
       "      <td>NaN</td>\n",
       "      <td>NaN</td>\n",
       "    </tr>\n",
       "    <tr>\n",
       "      <th>4</th>\n",
       "      <td>Albion Village</td>\n",
       "      <td>6,388</td>\n",
       "      <td>23</td>\n",
       "      <td>0.0</td>\n",
       "      <td>NaN</td>\n",
       "      <td>3</td>\n",
       "      <td>4</td>\n",
       "      <td>16</td>\n",
       "      <td>223</td>\n",
       "      <td>53</td>\n",
       "      <td>165</td>\n",
       "      <td>5</td>\n",
       "      <td>NaN</td>\n",
       "      <td>NaN</td>\n",
       "    </tr>\n",
       "  </tbody>\n",
       "</table>\n",
       "</div>"
      ],
      "text/plain": [
       "                       City Population Violent\\ncrime  \\\n",
       "0             Adams Village      1,861              0   \n",
       "1  Addison Town and Village      2,577              3   \n",
       "2             Akron Village      2,846              3   \n",
       "3                    Albany     97,956            791   \n",
       "4            Albion Village      6,388             23   \n",
       "\n",
       "   Murder and\\nnonnegligent\\nmanslaughter  Rape\\n(revised\\ndefinition)1  \\\n",
       "0                                     0.0                           NaN   \n",
       "1                                     0.0                           NaN   \n",
       "2                                     0.0                           NaN   \n",
       "3                                     8.0                           NaN   \n",
       "4                                     0.0                           NaN   \n",
       "\n",
       "  Rape\\n(legacy\\ndefinition)2 Robbery Aggravated\\nassault Property\\ncrime  \\\n",
       "0                           0       0                   0              12   \n",
       "1                           0       0                   3              24   \n",
       "2                           0       0                   3              16   \n",
       "3                          30     227                 526           4,090   \n",
       "4                           3       4                  16             223   \n",
       "\n",
       "  Burglary Larceny-\\ntheft Motor\\nvehicle\\ntheft  Arson3  Unnamed: 13  \n",
       "0        2              10                     0     0.0          NaN  \n",
       "1        3              20                     1     0.0          NaN  \n",
       "2        1              15                     0     0.0          NaN  \n",
       "3      705           3,243                   142     NaN          NaN  \n",
       "4       53             165                     5     NaN          NaN  "
      ]
     },
     "execution_count": 3,
     "metadata": {},
     "output_type": "execute_result"
    }
   ],
   "source": [
    "#data import\n",
    "da = pd.read_csv(r'C:\\Users\\jmfra\\OneDrive\\Documents\\Thinkful Data Science Files\\2.4.2 drill data\\table8.csv')\n",
    "da.head()"
   ]
  },
  {
   "cell_type": "code",
   "execution_count": 4,
   "metadata": {
    "collapsed": true
   },
   "outputs": [],
   "source": [
    "da.fillna(value=0)\n",
    "da = da[0:348]"
   ]
  },
  {
   "cell_type": "code",
   "execution_count": 5,
   "metadata": {
    "collapsed": false
   },
   "outputs": [
    {
     "data": {
      "text/html": [
       "<div>\n",
       "<table border=\"1\" class=\"dataframe\">\n",
       "  <thead>\n",
       "    <tr style=\"text-align: right;\">\n",
       "      <th></th>\n",
       "      <th>Population</th>\n",
       "      <th>Violent_Crime</th>\n",
       "      <th>Murder</th>\n",
       "      <th>Rape</th>\n",
       "      <th>Robbery</th>\n",
       "      <th>Burglary</th>\n",
       "      <th>Aggravated_Assault</th>\n",
       "      <th>Larceny_Theft</th>\n",
       "      <th>Motor_Vehicle_Theft</th>\n",
       "      <th>Arson</th>\n",
       "      <th>Property_Crime</th>\n",
       "    </tr>\n",
       "  </thead>\n",
       "  <tbody>\n",
       "    <tr>\n",
       "      <th>0</th>\n",
       "      <td>1,861</td>\n",
       "      <td>0</td>\n",
       "      <td>0.0</td>\n",
       "      <td>0</td>\n",
       "      <td>0</td>\n",
       "      <td>2</td>\n",
       "      <td>0</td>\n",
       "      <td>10</td>\n",
       "      <td>0</td>\n",
       "      <td>0.0</td>\n",
       "      <td>12</td>\n",
       "    </tr>\n",
       "    <tr>\n",
       "      <th>1</th>\n",
       "      <td>2,577</td>\n",
       "      <td>3</td>\n",
       "      <td>0.0</td>\n",
       "      <td>0</td>\n",
       "      <td>0</td>\n",
       "      <td>3</td>\n",
       "      <td>3</td>\n",
       "      <td>20</td>\n",
       "      <td>1</td>\n",
       "      <td>0.0</td>\n",
       "      <td>24</td>\n",
       "    </tr>\n",
       "    <tr>\n",
       "      <th>2</th>\n",
       "      <td>2,846</td>\n",
       "      <td>3</td>\n",
       "      <td>0.0</td>\n",
       "      <td>0</td>\n",
       "      <td>0</td>\n",
       "      <td>1</td>\n",
       "      <td>3</td>\n",
       "      <td>15</td>\n",
       "      <td>0</td>\n",
       "      <td>0.0</td>\n",
       "      <td>16</td>\n",
       "    </tr>\n",
       "    <tr>\n",
       "      <th>3</th>\n",
       "      <td>97,956</td>\n",
       "      <td>791</td>\n",
       "      <td>8.0</td>\n",
       "      <td>30</td>\n",
       "      <td>227</td>\n",
       "      <td>705</td>\n",
       "      <td>526</td>\n",
       "      <td>3,243</td>\n",
       "      <td>142</td>\n",
       "      <td>NaN</td>\n",
       "      <td>4,090</td>\n",
       "    </tr>\n",
       "    <tr>\n",
       "      <th>4</th>\n",
       "      <td>6,388</td>\n",
       "      <td>23</td>\n",
       "      <td>0.0</td>\n",
       "      <td>3</td>\n",
       "      <td>4</td>\n",
       "      <td>53</td>\n",
       "      <td>16</td>\n",
       "      <td>165</td>\n",
       "      <td>5</td>\n",
       "      <td>NaN</td>\n",
       "      <td>223</td>\n",
       "    </tr>\n",
       "  </tbody>\n",
       "</table>\n",
       "</div>"
      ],
      "text/plain": [
       "  Population Violent_Crime  Murder Rape Robbery Burglary Aggravated_Assault  \\\n",
       "0      1,861             0     0.0    0       0        2                  0   \n",
       "1      2,577             3     0.0    0       0        3                  3   \n",
       "2      2,846             3     0.0    0       0        1                  3   \n",
       "3     97,956           791     8.0   30     227      705                526   \n",
       "4      6,388            23     0.0    3       4       53                 16   \n",
       "\n",
       "  Larceny_Theft Motor_Vehicle_Theft  Arson Property_Crime  \n",
       "0            10                   0    0.0             12  \n",
       "1            20                   1    0.0             24  \n",
       "2            15                   0    0.0             16  \n",
       "3         3,243                 142    NaN          4,090  \n",
       "4           165                   5    NaN            223  "
      ]
     },
     "execution_count": 5,
     "metadata": {},
     "output_type": "execute_result"
    }
   ],
   "source": [
    "dp = pd.DataFrame()\n",
    "dp['Population'] = da[['Population']]\n",
    "dp['Violent_Crime'] = da[['Violent\\ncrime']]\n",
    "dp['Murder'] = da[['Murder and\\nnonnegligent\\nmanslaughter']]\n",
    "dp['Rape'] = da[['Rape\\n(legacy\\ndefinition)2']]\n",
    "dp['Robbery'] = da[['Robbery']]\n",
    "dp['Burglary'] = da[['Burglary']]\n",
    "dp['Aggravated_Assault'] = da[['Aggravated\\nassault']]\n",
    "dp['Larceny_Theft'] = da[['Larceny-\\ntheft']]\n",
    "dp['Motor_Vehicle_Theft'] = da[['Motor\\nvehicle\\ntheft']]\n",
    "dp['Arson'] = da[['Arson3']]\n",
    "dp['Property_Crime'] = da[['Property\\ncrime']]\n",
    "dp.head()"
   ]
  },
  {
   "cell_type": "code",
   "execution_count": 6,
   "metadata": {
    "collapsed": true
   },
   "outputs": [],
   "source": [
    "#looking at the new dataframe, some of the columns are not in the same in the\n",
    "#format we want. Let's get rid of unnecessary characters, replace the nans \n",
    "#with 0s and convert strings to integers \n",
    "dp['Arson'] = dp['Arson'].astype(str)\n",
    "dp['Population'] = dp.Population.str.replace(',','')\n",
    "dp['Violent_Crime'] = dp.Violent_Crime.str.replace(',','')\n",
    "dp['Rape'] = dp.Rape.str.replace(',','')\n",
    "dp['Robbery'] = dp.Robbery.str.replace(',','')\n",
    "dp['Burglary'] = dp.Burglary.str.replace(',','')\n",
    "dp['Aggravated_Assault'] = dp.Aggravated_Assault.str.replace(',','')\n",
    "dp['Larceny_Theft'] = dp.Larceny_Theft.str.replace(',','')\n",
    "dp['Motor_Vehicle_Theft'] = dp.Motor_Vehicle_Theft.str.replace(',','')\n",
    "dp['Arson'] = dp.Arson.str.replace('nan','0')\n",
    "dp['Property_Crime'] = dp.Property_Crime.str.replace(',','')"
   ]
  },
  {
   "cell_type": "code",
   "execution_count": 7,
   "metadata": {
    "collapsed": true
   },
   "outputs": [],
   "source": [
    "dp['Population'] = pd.to_numeric(dp['Population'])\n",
    "dp['Violent_Crime'] = pd.to_numeric(dp['Violent_Crime'])\n",
    "dp['Rape'] = pd.to_numeric(dp['Rape'])\n",
    "dp['Robbery'] = pd.to_numeric(dp['Robbery'])\n",
    "dp['Burglary'] = pd.to_numeric(dp['Burglary'])\n",
    "dp['Aggravated_Assault'] = pd.to_numeric(dp['Aggravated_Assault'])\n",
    "dp['Larceny_Theft'] = pd.to_numeric(dp['Larceny_Theft'])\n",
    "dp['Motor_Vehicle_Theft'] = pd.to_numeric(dp['Motor_Vehicle_Theft'])\n",
    "dp['Arson'] = pd.to_numeric(dp['Arson'])\n",
    "dp['Property_Crime'] = pd.to_numeric(dp['Property_Crime'])"
   ]
  },
  {
   "cell_type": "code",
   "execution_count": 8,
   "metadata": {
    "collapsed": false
   },
   "outputs": [],
   "source": [
    "dp = dp.drop([216])\n",
    "dp = dp.drop([346])"
   ]
  },
  {
   "cell_type": "code",
   "execution_count": 9,
   "metadata": {
    "collapsed": false
   },
   "outputs": [
    {
     "name": "stdout",
     "output_type": "stream",
     "text": [
      "\n",
      "Coefficients: \n",
      " [[  1.40717019e-02  -6.11237024e+01   9.40812355e+01   6.58999784e+01\n",
      "    6.05462881e+01]]\n",
      "\n",
      "Intercept: \n",
      " [ 9.03688234]\n",
      "\n",
      "R-squared:\n",
      "0.724280727923\n"
     ]
    },
    {
     "data": {
      "image/png": "[encoded data removed]",
      "text/plain": [
       "<matplotlib.figure.Figure at 0x1adfb754ba8>"
      ]
     },
     "metadata": {},
     "output_type": "display_data"
    }
   ],
   "source": [
    "ds = dp[dp['Population'] < 40000]\n",
    "ds = ds.drop(['Burglary'], axis=1)\n",
    "ds = ds.drop(['Larceny_Theft'], axis=1)\n",
    "ds = ds.drop(['Motor_Vehicle_Theft'], axis=1)\n",
    "regr = linear_model.LinearRegression()\n",
    "Y = ds['Property_Crime'].values.reshape(-1, 1)\n",
    "X = ds[['Population', 'Violent_Crime', 'Rape', 'Robbery', 'Aggravated_Assault']]\n",
    "regr.fit(X, Y)\n",
    "print('\\nCoefficients: \\n', regr.coef_)\n",
    "print('\\nIntercept: \\n', regr.intercept_)\n",
    "print('\\nR-squared:')\n",
    "print(regr.score(X, Y))\n",
    "\n",
    "predicted = regr.predict(X).ravel()\n",
    "actual = ds['Property_Crime']\n",
    "residual = actual - predicted\n",
    "plt.scatter(predicted, residual)\n",
    "plt.xlabel('Predicted')\n",
    "plt.ylabel('Residual')\n",
    "plt.axhline(y=0)\n",
    "plt.title('Residual vs. Predicted')\n",
    "plt.show()"
   ]
  },
  {
   "cell_type": "code",
   "execution_count": 10,
   "metadata": {
    "collapsed": true
   },
   "outputs": [],
   "source": [
    "#This r squared value is pretty bad so lets see if we can do any transformations\n",
    "#The most obvious analysis is that violent crime, aggravated assault and robbery\n",
    "#have above a 93% correlation. Since violent crime is the most correlated to\n",
    "#the two other options, we are going to get rid of the other two\n",
    "ds = ds.drop(['Robbery'], axis=1)\n",
    "ds = ds.drop(['Aggravated_Assault'], axis=1)\n",
    "ds['Violent_Crime2'] = ds['Violent_Crime']**.5\n",
    "ds['Rape2'] = ds['Rape']**.5"
   ]
  },
  {
   "cell_type": "code",
   "execution_count": 11,
   "metadata": {
    "collapsed": false
   },
   "outputs": [
    {
     "name": "stdout",
     "output_type": "stream",
     "text": [
      "\n",
      "Coefficients: \n",
      " [[  1.04200734e-02   3.29520507e+01   5.34614333e+01]]\n",
      "\n",
      "Intercept: \n",
      " [-36.06448493]\n",
      "\n",
      "R-squared:\n",
      "0.748011944478\n"
     ]
    },
    {
     "data": {
      "image/png": "[encoded data removed]",
      "text/plain": [
       "<matplotlib.figure.Figure at 0x1adfe85b438>"
      ]
     },
     "metadata": {},
     "output_type": "display_data"
    }
   ],
   "source": [
    "regr = linear_model.LinearRegression()\n",
    "Y = ds['Property_Crime'].values.reshape(-1, 1)\n",
    "X = ds[['Population', 'Violent_Crime2', 'Rape2']]\n",
    "regr.fit(X, Y)\n",
    "print('\\nCoefficients: \\n', regr.coef_)\n",
    "print('\\nIntercept: \\n', regr.intercept_)\n",
    "print('\\nR-squared:')\n",
    "print(regr.score(X, Y))\n",
    "\n",
    "predicted = regr.predict(X).ravel()\n",
    "actual = ds['Property_Crime']\n",
    "residual = actual - predicted\n",
    "plt.scatter(predicted, residual)\n",
    "plt.xlabel('Predicted')\n",
    "plt.ylabel('Residual')\n",
    "plt.axhline(y=0)\n",
    "plt.title('Residual vs. Predicted')\n",
    "plt.show()"
   ]
  },
  {
   "cell_type": "code",
   "execution_count": 12,
   "metadata": {
    "collapsed": false
   },
   "outputs": [
    {
     "name": "stdout",
     "output_type": "stream",
     "text": [
      "Unweighted Accuracy: 0.58 (+/- 0.10)\n",
      "Weighted Accuracy: 0.36 (+/- 0.22)\n"
     ]
    }
   ],
   "source": [
    "#now for the knn regression with 10 neighbors in both a weighted and unweighted environment\n",
    "knn = neighbors.KNeighborsRegressor(n_neighbors=10)\n",
    "Y = ds[['Population', 'Violent_Crime2', 'Rape2']]\n",
    "X = ds[['Property_Crime']].values.reshape(-1,1)\n",
    "knn.fit(X, Y)\n",
    "\n",
    "T = np.arange(0, 10000, 1)[:, np.newaxis]\n",
    "\n",
    "Y_ = knn.predict(T)\n",
    "\n",
    "knn_w = neighbors.KNeighborsRegressor(n_neighbors=10, weights='distance')\n",
    "knn_w.fit(X, Y)\n",
    "\n",
    "T = np.arange(0, 20, 0.1)[:, np.newaxis]\n",
    "\n",
    "Y_ = knn_w.predict(T)\n",
    "score = cross_val_score(knn, X, Y, cv=5)\n",
    "print(\"Unweighted Accuracy: %0.2f (+/- %0.2f)\" % (score.mean(), score.std() * 2))\n",
    "score_w = cross_val_score(knn_w, X, Y, cv=5)\n",
    "print(\"Weighted Accuracy: %0.2f (+/- %0.2f)\" % (score_w.mean(), score_w.std() * 2))"
   ]
  },
  {
   "cell_type": "code",
   "execution_count": 13,
   "metadata": {
    "collapsed": false
   },
   "outputs": [],
   "source": [
    "X = ds[['Population', 'Violent_Crime2', 'Rape2']]\n",
    "y = ds['Property_Crime']\n",
    "xtrain, xtest, ytrain, ytest = train_test_split(X, y, test_size=0.25)"
   ]
  },
  {
   "cell_type": "code",
   "execution_count": 15,
   "metadata": {
    "collapsed": false
   },
   "outputs": [
    {
     "name": "stdout",
     "output_type": "stream",
     "text": [
      "Coefficients: \n",
      " [  1.08270785e-02   2.98195250e+01   6.11033755e+01]\n",
      "Intercept: \n",
      " -36.1944958995\n",
      "\n",
      "R-squared: 0.743925824218\n"
     ]
    }
   ],
   "source": [
    "X = xtrain\n",
    "Y = ytrain\n",
    "regr.fit(X, Y)\n",
    "\n",
    "print('Coefficients: \\n', regr.coef_)\n",
    "print('Intercept: \\n', regr.intercept_)\n",
    "print('\\nR-squared:', regr.score(X, Y))"
   ]
  },
  {
   "cell_type": "code",
   "execution_count": 16,
   "metadata": {
    "collapsed": false
   },
   "outputs": [
    {
     "name": "stdout",
     "output_type": "stream",
     "text": [
      "Coefficients: \n",
      " [  8.56150213e-03   4.52860070e+01   2.90043288e+01]\n",
      "Intercept: \n",
      " -36.3327236623\n",
      "\n",
      "R-squared: 0.767897314151\n"
     ]
    }
   ],
   "source": [
    "X = xtest\n",
    "Y = ytest\n",
    "regr.fit(X, Y)\n",
    "\n",
    "print('Coefficients: \\n', regr.coef_)\n",
    "print('Intercept: \\n', regr.intercept_)\n",
    "print('\\nR-squared:', regr.score(X, Y))"
   ]
  },
  {
   "cell_type": "code",
   "execution_count": 20,
   "metadata": {
    "collapsed": false
   },
   "outputs": [
    {
     "name": "stdout",
     "output_type": "stream",
     "text": [
      "Unweighted Accuracy: 0.53 (+/- 0.24)\n",
      "Weighted Accuracy: 0.55 (+/- 0.24)\n"
     ]
    }
   ],
   "source": [
    "X = xtrain\n",
    "Y = ytrain\n",
    "knn = neighbors.KNeighborsRegressor(n_neighbors=10)\n",
    "X = pd.DataFrame(X)\n",
    "knn.fit(X, Y)\n",
    "\n",
    "knn_w = neighbors.KNeighborsRegressor(n_neighbors=10, weights='distance')\n",
    "X = pd.DataFrame(X)\n",
    "knn_w.fit(X, Y)\n",
    "\n",
    "score = cross_val_score(knn, X, Y, cv=5)\n",
    "print(\"Unweighted Accuracy: %0.2f (+/- %0.2f)\" % (score.mean(), score.std() * 2))\n",
    "score_w = cross_val_score(knn_w, X, Y, cv=5)\n",
    "print(\"Weighted Accuracy: %0.2f (+/- %0.2f)\" % (score_w.mean(), score_w.std() * 2))"
   ]
  },
  {
   "cell_type": "code",
   "execution_count": 21,
   "metadata": {
    "collapsed": false
   },
   "outputs": [
    {
     "name": "stdout",
     "output_type": "stream",
     "text": [
      "Unweighted Accuracy: 0.47 (+/- 0.28)\n",
      "Weighted Accuracy: 0.47 (+/- 0.49)\n"
     ]
    }
   ],
   "source": [
    "X = xtest\n",
    "Y = ytest\n",
    "knn = neighbors.KNeighborsRegressor(n_neighbors=10)\n",
    "X = pd.DataFrame(X)\n",
    "knn.fit(X, Y)\n",
    "\n",
    "knn_w = neighbors.KNeighborsRegressor(n_neighbors=10, weights='distance')\n",
    "X = pd.DataFrame(X)\n",
    "knn_w.fit(X, Y)\n",
    "\n",
    "score = cross_val_score(knn, X, Y, cv=5)\n",
    "print(\"Unweighted Accuracy: %0.2f (+/- %0.2f)\" % (score.mean(), score.std() * 2))\n",
    "score_w = cross_val_score(knn_w, X, Y, cv=5)\n",
    "print(\"Weighted Accuracy: %0.2f (+/- %0.2f)\" % (score_w.mean(), score_w.std() * 2))"
   ]
  },
  {
   "cell_type": "markdown",
   "metadata": {},
   "source": [
    "Looking at the data, you can see that OLS outperformed KNN in all cases. Both models are bad for the data that I chose. If you look at the residual plots you can see that there is a reoccuring issue that is unfixable because there is a \"fanning\" at the end of the residual. No matter how many outliers you try to remove, there are always more, so these standard regressions will always fail to catch the end of the data or overfit to the sample set.\n",
    "\n",
    "In terms of the actual regression types, linear regression is likely the best to be used when the data is a hand selected sample from a population that consists of a group an even distibution of points over one of the variables. The data does not necessarily have to be hand picked but it is important that one variable has an even distribution. Without doing this, there is almost always skewness in data that either causes an issue in linearity, residuals, or covariability. \n",
    "\n",
    "KNN regression is better used on data types with high skewness but clear outcomes. As you can see form the graphs, the KNN does jump a lot more inbetween points, meaning it is much better at predicting oscillations in data instead of going for a straight line. The issue is that KNN with high N neighbors will never predict outliers and when it is low, it will overfit to specific data, so you will need to try out different values based on your data and sample size."
   ]
  },
  {
   "cell_type": "code",
   "execution_count": null,
   "metadata": {
    "collapsed": true
   },
   "outputs": [],
   "source": []
  }
 ],
 "metadata": {
  "anaconda-cloud": {},
  "kernelspec": {
   "display_name": "Python [conda root]",
   "language": "python",
   "name": "conda-root-py"
  },
  "language_info": {
   "codemirror_mode": {
    "name": "ipython",
    "version": 3
   },
   "file_extension": ".py",
   "mimetype": "text/x-python",
   "name": "python",
   "nbconvert_exporter": "python",
   "pygments_lexer": "ipython3",
   "version": "3.5.2"
  }
 },
 "nbformat": 4,
 "nbformat_minor": 1
}
