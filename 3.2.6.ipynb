{
 "cells": [
  {
   "cell_type": "markdown",
   "metadata": {},
   "source": [
    "## Challenge: If a tree falls in the forest...\n",
    "\n",
    "In this script, I will create the best decision tree I can and compare it to a random forest."
   ]
  },
  {
   "cell_type": "code",
   "execution_count": 1,
   "metadata": {
    "collapsed": true
   },
   "outputs": [],
   "source": [
    "import seaborn as sns\n",
    "import pandas as pd\n",
    "import numpy as np\n",
    "import matplotlib.pyplot as plt\n",
    "%matplotlib inline\n",
    "from sklearn import ensemble\n",
    "from sklearn.model_selection import cross_val_score\n",
    "from sklearn import tree\n",
    "from IPython.display import Image\n",
    "import pydotplus\n",
    "import graphviz\n",
    "import time"
   ]
  },
  {
   "cell_type": "code",
   "execution_count": 2,
   "metadata": {
    "collapsed": false
   },
   "outputs": [
    {
     "data": {
      "text/html": [
       "<div>\n",
       "<table border=\"1\" class=\"dataframe\">\n",
       "  <thead>\n",
       "    <tr style=\"text-align: right;\">\n",
       "      <th></th>\n",
       "      <th>\"fixed acidity\"</th>\n",
       "      <th>\"volatile acidity\"</th>\n",
       "      <th>\"citric acid\"</th>\n",
       "      <th>\"residual sugar\"</th>\n",
       "      <th>\"chlorides\"</th>\n",
       "      <th>\"free sulfur dioxide\"</th>\n",
       "      <th>\"total sulfur dioxide\"</th>\n",
       "      <th>\"density\"</th>\n",
       "      <th>\"pH\"</th>\n",
       "      <th>\"sulphates\"</th>\n",
       "      <th>\"alcohol\"</th>\n",
       "      <th>\"quality\"\"\"</th>\n",
       "    </tr>\n",
       "  </thead>\n",
       "  <tbody>\n",
       "    <tr>\n",
       "      <th>0</th>\n",
       "      <td>7.4</td>\n",
       "      <td>0.70</td>\n",
       "      <td>0.00</td>\n",
       "      <td>1.9</td>\n",
       "      <td>0.076</td>\n",
       "      <td>11.0</td>\n",
       "      <td>34.0</td>\n",
       "      <td>0.9978</td>\n",
       "      <td>3.51</td>\n",
       "      <td>0.56</td>\n",
       "      <td>9.4</td>\n",
       "      <td>5</td>\n",
       "    </tr>\n",
       "    <tr>\n",
       "      <th>1</th>\n",
       "      <td>7.8</td>\n",
       "      <td>0.88</td>\n",
       "      <td>0.00</td>\n",
       "      <td>2.6</td>\n",
       "      <td>0.098</td>\n",
       "      <td>25.0</td>\n",
       "      <td>67.0</td>\n",
       "      <td>0.9968</td>\n",
       "      <td>3.20</td>\n",
       "      <td>0.68</td>\n",
       "      <td>9.8</td>\n",
       "      <td>5</td>\n",
       "    </tr>\n",
       "    <tr>\n",
       "      <th>2</th>\n",
       "      <td>7.8</td>\n",
       "      <td>0.76</td>\n",
       "      <td>0.04</td>\n",
       "      <td>2.3</td>\n",
       "      <td>0.092</td>\n",
       "      <td>15.0</td>\n",
       "      <td>54.0</td>\n",
       "      <td>0.9970</td>\n",
       "      <td>3.26</td>\n",
       "      <td>0.65</td>\n",
       "      <td>9.8</td>\n",
       "      <td>5</td>\n",
       "    </tr>\n",
       "    <tr>\n",
       "      <th>3</th>\n",
       "      <td>11.2</td>\n",
       "      <td>0.28</td>\n",
       "      <td>0.56</td>\n",
       "      <td>1.9</td>\n",
       "      <td>0.075</td>\n",
       "      <td>17.0</td>\n",
       "      <td>60.0</td>\n",
       "      <td>0.9980</td>\n",
       "      <td>3.16</td>\n",
       "      <td>0.58</td>\n",
       "      <td>9.8</td>\n",
       "      <td>6</td>\n",
       "    </tr>\n",
       "    <tr>\n",
       "      <th>4</th>\n",
       "      <td>7.4</td>\n",
       "      <td>0.70</td>\n",
       "      <td>0.00</td>\n",
       "      <td>1.9</td>\n",
       "      <td>0.076</td>\n",
       "      <td>11.0</td>\n",
       "      <td>34.0</td>\n",
       "      <td>0.9978</td>\n",
       "      <td>3.51</td>\n",
       "      <td>0.56</td>\n",
       "      <td>9.4</td>\n",
       "      <td>5</td>\n",
       "    </tr>\n",
       "  </tbody>\n",
       "</table>\n",
       "</div>"
      ],
      "text/plain": [
       "   \"fixed acidity\"  \"volatile acidity\"  \"citric acid\"  \"residual sugar\"  \\\n",
       "0              7.4                0.70           0.00               1.9   \n",
       "1              7.8                0.88           0.00               2.6   \n",
       "2              7.8                0.76           0.04               2.3   \n",
       "3             11.2                0.28           0.56               1.9   \n",
       "4              7.4                0.70           0.00               1.9   \n",
       "\n",
       "   \"chlorides\"  \"free sulfur dioxide\"  \"total sulfur dioxide\"  \"density\"  \\\n",
       "0        0.076                   11.0                    34.0     0.9978   \n",
       "1        0.098                   25.0                    67.0     0.9968   \n",
       "2        0.092                   15.0                    54.0     0.9970   \n",
       "3        0.075                   17.0                    60.0     0.9980   \n",
       "4        0.076                   11.0                    34.0     0.9978   \n",
       "\n",
       "   \"pH\"  \"sulphates\"  \"alcohol\"  \"quality\"\"\"  \n",
       "0  3.51         0.56        9.4            5  \n",
       "1  3.20         0.68        9.8            5  \n",
       "2  3.26         0.65        9.8            5  \n",
       "3  3.16         0.58        9.8            6  \n",
       "4  3.51         0.56        9.4            5  "
      ]
     },
     "execution_count": 2,
     "metadata": {},
     "output_type": "execute_result"
    }
   ],
   "source": [
    "#import data and take a look\n",
    "data = pd.read_csv(r'C:\\Users\\jmfra\\OneDrive\\Documents\\Thinkful Data Science Files\\3.1.4 data\\wine.csv', delimiter = '\";\"|;', engine = 'python')\n",
    "data.head()"
   ]
  },
  {
   "cell_type": "code",
   "execution_count": 3,
   "metadata": {
    "collapsed": false
   },
   "outputs": [
    {
     "data": {
      "text/html": [
       "<div>\n",
       "<table border=\"1\" class=\"dataframe\">\n",
       "  <thead>\n",
       "    <tr style=\"text-align: right;\">\n",
       "      <th></th>\n",
       "      <th>Fixed_Acidity</th>\n",
       "      <th>Volatile_acidity</th>\n",
       "      <th>Citric_Acid</th>\n",
       "      <th>Residual_Sugar</th>\n",
       "      <th>Chlorides</th>\n",
       "      <th>Free_Sulfur_Dioxide</th>\n",
       "      <th>Total_Sulfur_Dioxide</th>\n",
       "      <th>Density</th>\n",
       "      <th>pH</th>\n",
       "      <th>Sulphates</th>\n",
       "      <th>Alcohol</th>\n",
       "      <th>Quality</th>\n",
       "    </tr>\n",
       "  </thead>\n",
       "  <tbody>\n",
       "    <tr>\n",
       "      <th>0</th>\n",
       "      <td>7.4</td>\n",
       "      <td>0.70</td>\n",
       "      <td>0.00</td>\n",
       "      <td>1.9</td>\n",
       "      <td>0.076</td>\n",
       "      <td>11.0</td>\n",
       "      <td>34.0</td>\n",
       "      <td>0.9978</td>\n",
       "      <td>3.51</td>\n",
       "      <td>0.56</td>\n",
       "      <td>9.4</td>\n",
       "      <td>5</td>\n",
       "    </tr>\n",
       "    <tr>\n",
       "      <th>1</th>\n",
       "      <td>7.8</td>\n",
       "      <td>0.88</td>\n",
       "      <td>0.00</td>\n",
       "      <td>2.6</td>\n",
       "      <td>0.098</td>\n",
       "      <td>25.0</td>\n",
       "      <td>67.0</td>\n",
       "      <td>0.9968</td>\n",
       "      <td>3.20</td>\n",
       "      <td>0.68</td>\n",
       "      <td>9.8</td>\n",
       "      <td>5</td>\n",
       "    </tr>\n",
       "    <tr>\n",
       "      <th>2</th>\n",
       "      <td>7.8</td>\n",
       "      <td>0.76</td>\n",
       "      <td>0.04</td>\n",
       "      <td>2.3</td>\n",
       "      <td>0.092</td>\n",
       "      <td>15.0</td>\n",
       "      <td>54.0</td>\n",
       "      <td>0.9970</td>\n",
       "      <td>3.26</td>\n",
       "      <td>0.65</td>\n",
       "      <td>9.8</td>\n",
       "      <td>5</td>\n",
       "    </tr>\n",
       "    <tr>\n",
       "      <th>3</th>\n",
       "      <td>11.2</td>\n",
       "      <td>0.28</td>\n",
       "      <td>0.56</td>\n",
       "      <td>1.9</td>\n",
       "      <td>0.075</td>\n",
       "      <td>17.0</td>\n",
       "      <td>60.0</td>\n",
       "      <td>0.9980</td>\n",
       "      <td>3.16</td>\n",
       "      <td>0.58</td>\n",
       "      <td>9.8</td>\n",
       "      <td>6</td>\n",
       "    </tr>\n",
       "    <tr>\n",
       "      <th>4</th>\n",
       "      <td>7.4</td>\n",
       "      <td>0.70</td>\n",
       "      <td>0.00</td>\n",
       "      <td>1.9</td>\n",
       "      <td>0.076</td>\n",
       "      <td>11.0</td>\n",
       "      <td>34.0</td>\n",
       "      <td>0.9978</td>\n",
       "      <td>3.51</td>\n",
       "      <td>0.56</td>\n",
       "      <td>9.4</td>\n",
       "      <td>5</td>\n",
       "    </tr>\n",
       "  </tbody>\n",
       "</table>\n",
       "</div>"
      ],
      "text/plain": [
       "   Fixed_Acidity  Volatile_acidity  Citric_Acid  Residual_Sugar  Chlorides  \\\n",
       "0            7.4              0.70         0.00             1.9      0.076   \n",
       "1            7.8              0.88         0.00             2.6      0.098   \n",
       "2            7.8              0.76         0.04             2.3      0.092   \n",
       "3           11.2              0.28         0.56             1.9      0.075   \n",
       "4            7.4              0.70         0.00             1.9      0.076   \n",
       "\n",
       "   Free_Sulfur_Dioxide  Total_Sulfur_Dioxide  Density    pH  Sulphates  \\\n",
       "0                 11.0                  34.0   0.9978  3.51       0.56   \n",
       "1                 25.0                  67.0   0.9968  3.20       0.68   \n",
       "2                 15.0                  54.0   0.9970  3.26       0.65   \n",
       "3                 17.0                  60.0   0.9980  3.16       0.58   \n",
       "4                 11.0                  34.0   0.9978  3.51       0.56   \n",
       "\n",
       "   Alcohol  Quality  \n",
       "0      9.4        5  \n",
       "1      9.8        5  \n",
       "2      9.8        5  \n",
       "3      9.8        6  \n",
       "4      9.4        5  "
      ]
     },
     "execution_count": 3,
     "metadata": {},
     "output_type": "execute_result"
    }
   ],
   "source": [
    "#we have a clear dependent variable in quality, but all the titles are hard to use so lets rewrite them \n",
    "data=data.rename(columns = {'\"fixed acidity\"':'Fixed_Acidity'})\n",
    "data=data.rename(columns = {'\"volatile acidity\"':'Volatile_acidity'})\n",
    "data=data.rename(columns = {'\"citric acid\"':'Citric_Acid'})\n",
    "data=data.rename(columns = {'\"residual sugar\"':'Residual_Sugar'})\n",
    "data=data.rename(columns = {'\"chlorides\"':'Chlorides'})\n",
    "data=data.rename(columns = {'\"free sulfur dioxide\"':'Free_Sulfur_Dioxide'})\n",
    "data=data.rename(columns = {'\"total sulfur dioxide\"':'Total_Sulfur_Dioxide'})\n",
    "data=data.rename(columns = {'\"density\"':'Density'})\n",
    "data=data.rename(columns = {'\"pH\"':'pH'})\n",
    "data=data.rename(columns = {'\"sulphates\"':'Sulphates'})\n",
    "data=data.rename(columns = {'\"alcohol\"':'Alcohol'})\n",
    "data=data.rename(columns = {'\"quality\"\"\"':'Quality'})\n",
    "data.head()"
   ]
  },
  {
   "cell_type": "code",
   "execution_count": 4,
   "metadata": {
    "collapsed": false
   },
   "outputs": [],
   "source": [
    "#random forests and decision trees are much more accurate when working with a binary so I changed the quality which ranged from \n",
    "#3-8 into two groups. The weighted mean was inbetween 5 and 6, so anything 5 or below is below average and anything 6 or above \n",
    "#is above average.\n",
    "Qdata = pd.DataFrame()\n",
    "Qdata['Quality'] = np.where(data['Quality'] >= 6, 1, 0)\n",
    "data = data.drop('Quality', 1)"
   ]
  },
  {
   "cell_type": "code",
   "execution_count": 5,
   "metadata": {
    "collapsed": false,
    "scrolled": false
   },
   "outputs": [
    {
     "name": "stdout",
     "output_type": "stream",
     "text": [
      "0.646694548615\n",
      "--- 0.150404691696167 seconds ---\n"
     ]
    }
   ],
   "source": [
    "#after some iteration, roughly .65 is the best we can do\n",
    "start_time = time.time()\n",
    "decision_tree = tree.DecisionTreeClassifier(\n",
    "    criterion='entropy',\n",
    "    random_state = 300\n",
    ")\n",
    "x = cross_val_score(decision_tree, data, Qdata, cv=10).mean()\n",
    "print(x)\n",
    "print(\"--- %s seconds ---\" % (time.time() - start_time))"
   ]
  },
  {
   "cell_type": "code",
   "execution_count": 6,
   "metadata": {
    "collapsed": false
   },
   "outputs": [
    {
     "name": "stdout",
     "output_type": "stream",
     "text": [
      "0.713099315403\n",
      "--- 0.3304147720336914 seconds ---\n"
     ]
    }
   ],
   "source": [
    "start_time = time.time()\n",
    "rfc = ensemble.RandomForestClassifier()\n",
    "\n",
    "y = cross_val_score(rfc, data, Qdata.values.ravel(), cv=10).mean()\n",
    "print(y)\n",
    "print(\"--- %s seconds ---\" % (time.time() - start_time))"
   ]
  },
  {
   "cell_type": "code",
   "execution_count": null,
   "metadata": {
    "collapsed": true
   },
   "outputs": [],
   "source": [
    "#as you can see, random forest is more accurate at predicting than our best decision tree. The increase in prediction accuracy is\n",
    "#only .06 and more than doubles the time it takes to recieve a score. While this specific dataset only has a few hundred lines,\n",
    "#this is a real potential problem if you have hundreds of thousands of lines."
   ]
  },
  {
   "cell_type": "code",
   "execution_count": null,
   "metadata": {
    "collapsed": true
   },
   "outputs": [],
   "source": []
  }
 ],
 "metadata": {
  "anaconda-cloud": {},
  "kernelspec": {
   "display_name": "Python [default]",
   "language": "python",
   "name": "python3"
  },
  "language_info": {
   "codemirror_mode": {
    "name": "ipython",
    "version": 3
   },
   "file_extension": ".py",
   "mimetype": "text/x-python",
   "name": "python",
   "nbconvert_exporter": "python",
   "pygments_lexer": "ipython3",
   "version": "3.5.2"
  }
 },
 "nbformat": 4,
 "nbformat_minor": 1
}
