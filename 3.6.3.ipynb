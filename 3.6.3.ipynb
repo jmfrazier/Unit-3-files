{
 "cells": [
  {
   "cell_type": "markdown",
   "metadata": {},
   "source": [
    "## 3.6.3 Amazon Reviews\n",
    "\n",
    "In this kernel I will train a model based on the reviews of musical instruments to try and predict good or bad reviews. Then I will use this model to predict good and bad reviews in other review sets to see if my model performs will in other situations or overfits for my particular type."
   ]
  },
  {
   "cell_type": "code",
   "execution_count": 1,
   "metadata": {
    "collapsed": false
   },
   "outputs": [],
   "source": [
    "import pandas as pd\n",
    "import numpy as np\n",
    "import gzip\n",
    "import json\n",
    "from pandas.io.json import json_normalize\n",
    "from pprint import pprint\n",
    "from sklearn import tree\n",
    "from sklearn.model_selection import cross_val_score\n",
    "from sklearn import ensemble\n",
    "from sklearn.naive_bayes import BernoulliNB\n",
    "from sklearn.model_selection import train_test_split\n",
    "from sklearn.svm import SVR"
   ]
  },
  {
   "cell_type": "code",
   "execution_count": 29,
   "metadata": {
    "collapsed": false
   },
   "outputs": [],
   "source": [
    "#loading data from a json can be difficult. luckily the amazon site with the data offered direct code to load this into a\n",
    "#dataframe\n",
    "def parse(path):\n",
    "    g = gzip.open(path)\n",
    "    for l in g:\n",
    "        yield eval(l)\n",
    "\n",
    "def getDF(path):\n",
    "    i = 0\n",
    "    df = {}\n",
    "    for d in parse(path):\n",
    "        df[i] = d\n",
    "        i += 1\n",
    "    return pd.DataFrame.from_dict(df, orient='index')"
   ]
  },
  {
   "cell_type": "code",
   "execution_count": 30,
   "metadata": {
    "collapsed": false,
    "scrolled": true
   },
   "outputs": [],
   "source": [
    "#we load the set not during the function so it is easier to load other data sets later\n",
    "df = getDF(r\"C:\\Users\\jmfra\\Downloads\\reviews_Musical_Instruments_5.json.gz\")"
   ]
  },
  {
   "cell_type": "code",
   "execution_count": 31,
   "metadata": {
    "collapsed": false,
    "scrolled": true
   },
   "outputs": [
    {
     "data": {
      "text/html": [
       "<div>\n",
       "<table border=\"1\" class=\"dataframe\">\n",
       "  <thead>\n",
       "    <tr style=\"text-align: right;\">\n",
       "      <th></th>\n",
       "      <th>reviewerName</th>\n",
       "      <th>asin</th>\n",
       "      <th>helpful</th>\n",
       "      <th>reviewText</th>\n",
       "      <th>reviewTime</th>\n",
       "      <th>reviewerID</th>\n",
       "      <th>summary</th>\n",
       "      <th>overall</th>\n",
       "      <th>unixReviewTime</th>\n",
       "    </tr>\n",
       "  </thead>\n",
       "  <tbody>\n",
       "    <tr>\n",
       "      <th>0</th>\n",
       "      <td>cassandra tu \"Yeah, well, that's just like, u...</td>\n",
       "      <td>1384719342</td>\n",
       "      <td>[0, 0]</td>\n",
       "      <td>Not much to write about here, but it does exac...</td>\n",
       "      <td>02 28, 2014</td>\n",
       "      <td>A2IBPI20UZIR0U</td>\n",
       "      <td>good</td>\n",
       "      <td>5.0</td>\n",
       "      <td>1393545600</td>\n",
       "    </tr>\n",
       "    <tr>\n",
       "      <th>1</th>\n",
       "      <td>Jake</td>\n",
       "      <td>1384719342</td>\n",
       "      <td>[13, 14]</td>\n",
       "      <td>The product does exactly as it should and is q...</td>\n",
       "      <td>03 16, 2013</td>\n",
       "      <td>A14VAT5EAX3D9S</td>\n",
       "      <td>Jake</td>\n",
       "      <td>5.0</td>\n",
       "      <td>1363392000</td>\n",
       "    </tr>\n",
       "    <tr>\n",
       "      <th>2</th>\n",
       "      <td>Rick Bennette \"Rick Bennette\"</td>\n",
       "      <td>1384719342</td>\n",
       "      <td>[1, 1]</td>\n",
       "      <td>The primary job of this device is to block the...</td>\n",
       "      <td>08 28, 2013</td>\n",
       "      <td>A195EZSQDW3E21</td>\n",
       "      <td>It Does The Job Well</td>\n",
       "      <td>5.0</td>\n",
       "      <td>1377648000</td>\n",
       "    </tr>\n",
       "    <tr>\n",
       "      <th>3</th>\n",
       "      <td>RustyBill \"Sunday Rocker\"</td>\n",
       "      <td>1384719342</td>\n",
       "      <td>[0, 0]</td>\n",
       "      <td>Nice windscreen protects my MXL mic and preven...</td>\n",
       "      <td>02 14, 2014</td>\n",
       "      <td>A2C00NNG1ZQQG2</td>\n",
       "      <td>GOOD WINDSCREEN FOR THE MONEY</td>\n",
       "      <td>5.0</td>\n",
       "      <td>1392336000</td>\n",
       "    </tr>\n",
       "    <tr>\n",
       "      <th>4</th>\n",
       "      <td>SEAN MASLANKA</td>\n",
       "      <td>1384719342</td>\n",
       "      <td>[0, 0]</td>\n",
       "      <td>This pop filter is great. It looks and perform...</td>\n",
       "      <td>02 21, 2014</td>\n",
       "      <td>A94QU4C90B1AX</td>\n",
       "      <td>No more pops when I record my vocals.</td>\n",
       "      <td>5.0</td>\n",
       "      <td>1392940800</td>\n",
       "    </tr>\n",
       "  </tbody>\n",
       "</table>\n",
       "</div>"
      ],
      "text/plain": [
       "                                       reviewerName        asin   helpful  \\\n",
       "0  cassandra tu \"Yeah, well, that's just like, u...  1384719342    [0, 0]   \n",
       "1                                              Jake  1384719342  [13, 14]   \n",
       "2                     Rick Bennette \"Rick Bennette\"  1384719342    [1, 1]   \n",
       "3                         RustyBill \"Sunday Rocker\"  1384719342    [0, 0]   \n",
       "4                                     SEAN MASLANKA  1384719342    [0, 0]   \n",
       "\n",
       "                                          reviewText   reviewTime  \\\n",
       "0  Not much to write about here, but it does exac...  02 28, 2014   \n",
       "1  The product does exactly as it should and is q...  03 16, 2013   \n",
       "2  The primary job of this device is to block the...  08 28, 2013   \n",
       "3  Nice windscreen protects my MXL mic and preven...  02 14, 2014   \n",
       "4  This pop filter is great. It looks and perform...  02 21, 2014   \n",
       "\n",
       "       reviewerID                                summary  overall  \\\n",
       "0  A2IBPI20UZIR0U                                   good      5.0   \n",
       "1  A14VAT5EAX3D9S                                   Jake      5.0   \n",
       "2  A195EZSQDW3E21                   It Does The Job Well      5.0   \n",
       "3  A2C00NNG1ZQQG2          GOOD WINDSCREEN FOR THE MONEY      5.0   \n",
       "4   A94QU4C90B1AX  No more pops when I record my vocals.      5.0   \n",
       "\n",
       "   unixReviewTime  \n",
       "0      1393545600  \n",
       "1      1363392000  \n",
       "2      1377648000  \n",
       "3      1392336000  \n",
       "4      1392940800  "
      ]
     },
     "execution_count": 31,
     "metadata": {},
     "output_type": "execute_result"
    }
   ],
   "source": [
    "#lets take a look\n",
    "df.head()"
   ]
  },
  {
   "cell_type": "code",
   "execution_count": 32,
   "metadata": {
    "collapsed": false
   },
   "outputs": [
    {
     "name": "stdout",
     "output_type": "stream",
     "text": [
      "count    1397.000000\n",
      "mean        7.325698\n",
      "std         4.289890\n",
      "min         1.000000\n",
      "25%         5.000000\n",
      "50%         6.000000\n",
      "75%         8.000000\n",
      "max        66.000000\n",
      "Name: reviewerName, dtype: float64\n"
     ]
    },
    {
     "data": {
      "text/plain": [
       "count    1429.000000\n",
       "mean        7.180546\n",
       "std         3.731858\n",
       "min         5.000000\n",
       "25%         5.000000\n",
       "50%         6.000000\n",
       "75%         8.000000\n",
       "max        42.000000\n",
       "Name: reviewerID, dtype: float64"
      ]
     },
     "execution_count": 32,
     "metadata": {},
     "output_type": "execute_result"
    }
   ],
   "source": [
    "#first thing we notice is some categories are not going to be helpful in identifying a good review. \n",
    "#asin is just a product id\n",
    "#reviewerID is just an arbitrary assignment to each account. both this and name will be useless unless someone is filling out\n",
    "#a large amount of reviews and giving them all similar score\n",
    "print(df['reviewerName'].groupby(df['reviewerName']).count().describe())\n",
    "df['reviewerID'].groupby(df['reviewerID']).count().describe()"
   ]
  },
  {
   "cell_type": "code",
   "execution_count": 33,
   "metadata": {
    "collapsed": false
   },
   "outputs": [],
   "source": [
    "#in 10000 or so reviews, the most one person ever made is 66 so we can ignore these\n",
    "#The day and time of the review shouldnt be useful either\n",
    "df = df.drop(['asin', 'reviewerID', 'reviewerName', 'reviewTime', 'unixReviewTime'], axis=1)"
   ]
  },
  {
   "cell_type": "code",
   "execution_count": 34,
   "metadata": {
    "collapsed": false,
    "scrolled": true
   },
   "outputs": [
    {
     "data": {
      "text/html": [
       "<div>\n",
       "<table border=\"1\" class=\"dataframe\">\n",
       "  <thead>\n",
       "    <tr style=\"text-align: right;\">\n",
       "      <th></th>\n",
       "      <th>helpful</th>\n",
       "      <th>reviewText</th>\n",
       "      <th>summary</th>\n",
       "      <th>overall</th>\n",
       "    </tr>\n",
       "  </thead>\n",
       "  <tbody>\n",
       "    <tr>\n",
       "      <th>0</th>\n",
       "      <td>[0, 0]</td>\n",
       "      <td>Not much to write about here, but it does exac...</td>\n",
       "      <td>good</td>\n",
       "      <td>5.0</td>\n",
       "    </tr>\n",
       "    <tr>\n",
       "      <th>1</th>\n",
       "      <td>[13, 14]</td>\n",
       "      <td>The product does exactly as it should and is q...</td>\n",
       "      <td>Jake</td>\n",
       "      <td>5.0</td>\n",
       "    </tr>\n",
       "    <tr>\n",
       "      <th>2</th>\n",
       "      <td>[1, 1]</td>\n",
       "      <td>The primary job of this device is to block the...</td>\n",
       "      <td>It Does The Job Well</td>\n",
       "      <td>5.0</td>\n",
       "    </tr>\n",
       "    <tr>\n",
       "      <th>3</th>\n",
       "      <td>[0, 0]</td>\n",
       "      <td>Nice windscreen protects my MXL mic and preven...</td>\n",
       "      <td>GOOD WINDSCREEN FOR THE MONEY</td>\n",
       "      <td>5.0</td>\n",
       "    </tr>\n",
       "    <tr>\n",
       "      <th>4</th>\n",
       "      <td>[0, 0]</td>\n",
       "      <td>This pop filter is great. It looks and perform...</td>\n",
       "      <td>No more pops when I record my vocals.</td>\n",
       "      <td>5.0</td>\n",
       "    </tr>\n",
       "  </tbody>\n",
       "</table>\n",
       "</div>"
      ],
      "text/plain": [
       "    helpful                                         reviewText  \\\n",
       "0    [0, 0]  Not much to write about here, but it does exac...   \n",
       "1  [13, 14]  The product does exactly as it should and is q...   \n",
       "2    [1, 1]  The primary job of this device is to block the...   \n",
       "3    [0, 0]  Nice windscreen protects my MXL mic and preven...   \n",
       "4    [0, 0]  This pop filter is great. It looks and perform...   \n",
       "\n",
       "                                 summary  overall  \n",
       "0                                   good      5.0  \n",
       "1                                   Jake      5.0  \n",
       "2                   It Does The Job Well      5.0  \n",
       "3          GOOD WINDSCREEN FOR THE MONEY      5.0  \n",
       "4  No more pops when I record my vocals.      5.0  "
      ]
     },
     "execution_count": 34,
     "metadata": {},
     "output_type": "execute_result"
    }
   ],
   "source": [
    "#lets reevaluate\n",
    "df.head()"
   ]
  },
  {
   "cell_type": "code",
   "execution_count": 35,
   "metadata": {
    "collapsed": false
   },
   "outputs": [
    {
     "data": {
      "text/plain": [
       "overall\n",
       "1.0     217\n",
       "2.0     250\n",
       "3.0     772\n",
       "4.0    2084\n",
       "5.0    6938\n",
       "Name: overall, dtype: int64"
      ]
     },
     "execution_count": 35,
     "metadata": {},
     "output_type": "execute_result"
    }
   ],
   "source": [
    "#lets take a look at the counts for ratings\n",
    "df['overall'].groupby(df['overall']).count()"
   ]
  },
  {
   "cell_type": "code",
   "execution_count": 36,
   "metadata": {
    "collapsed": true
   },
   "outputs": [],
   "source": [
    "#it will be much easier to perform sentiment analysis than to perform a regression with the remaining data, so lets get rid of \n",
    "#the last independent variable\n",
    "df = df.drop('helpful', axis=1)"
   ]
  },
  {
   "cell_type": "code",
   "execution_count": 10,
   "metadata": {
    "collapsed": true
   },
   "outputs": [],
   "source": [
    "#actually coming up with good and bad identifiers would takea  very long time with no better method than guess and check\n",
    "#to test which ones improve the model. Instead of doing this, I will load some positively toned and negatively toned\n",
    "#words from a list I found online. In pervious models, these lists have performed very well at their base and will be\n",
    "#a good identifier of which model fits the data the best\n",
    "good = pd.read_csv(r\"C:\\Users\\jmfra\\OneDrive\\Documents\\Thinkful Data Science Files\\2.2.7\\positive.txt\", header=None)\n",
    "good.columns = ['x']\n",
    "bad = pd.read_csv(r\"C:\\Users\\jmfra\\OneDrive\\Documents\\Thinkful Data Science Files\\2.2.7\\negative.txt\", header=None)\n",
    "bad.columns = ['x']\n",
    "goodwords = list(good.values.flatten())\n",
    "badwords = list(bad.values.flatten())"
   ]
  },
  {
   "cell_type": "code",
   "execution_count": 37,
   "metadata": {
    "collapsed": false
   },
   "outputs": [],
   "source": [
    "#sentiment analysis works way better when the outcome variable is a boolean based on the numbers above, we are going to\n",
    "#define a good rating as 4 or above since the count drops off so much after that\n",
    "df['overall']  = np.where(df['overall'] >= 4,1,0)"
   ]
  },
  {
   "cell_type": "code",
   "execution_count": 38,
   "metadata": {
    "collapsed": false,
    "scrolled": true
   },
   "outputs": [],
   "source": [
    "#lets make the overall a true false to make it easier to run on\n",
    "df['overall_bool'] = (df['overall'] == 0)"
   ]
  },
  {
   "cell_type": "code",
   "execution_count": 13,
   "metadata": {
    "collapsed": false
   },
   "outputs": [],
   "source": [
    "#these next two cells create boolean values for every wor in the lists we created above. There purpose is to tell us if the \n",
    "#word shows up in the review and then our model will hopefully choose good or bad based on the total number of matching words\n",
    "#from each list. so for example, if a review say \"good\" \"bad\" and \"amazing\" and these are the only words that show up in the\n",
    "#lists, we would expect it to say it is a good review because the count of good words is 2 and the count of bad words is 1\n",
    "keywords_good = goodwords\n",
    "\n",
    "for key in keywords_good:\n",
    "    df[str(key)] = df.reviewText.str.contains(str(key), case=False)"
   ]
  },
  {
   "cell_type": "code",
   "execution_count": 14,
   "metadata": {
    "collapsed": false
   },
   "outputs": [],
   "source": [
    "keywords_bad = badwords\n",
    "\n",
    "for key in keywords_bad:\n",
    "    df[str(key)] = df.reviewText.str.contains(str(key), case=True)"
   ]
  },
  {
   "cell_type": "code",
   "execution_count": 15,
   "metadata": {
    "collapsed": false
   },
   "outputs": [],
   "source": [
    "#the next 4 cells are going to select the dependent and independent variable and then train 3 different models off these \n",
    "#variables\n",
    "X = df[keywords_good + keywords_bad]\n",
    "y = df['overall_bool']"
   ]
  },
  {
   "cell_type": "code",
   "execution_count": 16,
   "metadata": {
    "collapsed": false
   },
   "outputs": [],
   "source": [
    "bnb = BernoulliNB()\n",
    "x_b = cross_val_score(bnb, X, y, cv=10).mean()"
   ]
  },
  {
   "cell_type": "code",
   "execution_count": 17,
   "metadata": {
    "collapsed": false
   },
   "outputs": [],
   "source": [
    "decision_tree = tree.DecisionTreeClassifier(\n",
    "    criterion='entropy',\n",
    "    random_state = 300\n",
    ")\n",
    "x_d = cross_val_score(decision_tree, X, y, cv=10).mean()"
   ]
  },
  {
   "cell_type": "code",
   "execution_count": 18,
   "metadata": {
    "collapsed": false
   },
   "outputs": [],
   "source": [
    "rfc = ensemble.RandomForestClassifier()\n",
    "x_r = cross_val_score(rfc, X, y, cv=10).mean()"
   ]
  },
  {
   "cell_type": "code",
   "execution_count": 19,
   "metadata": {
    "collapsed": false
   },
   "outputs": [],
   "source": [
    "#now that we have the base scores for each classifier, lets run a for loop to not only do a train and test split on the\n",
    "#data to see if the data is statistically the same to the entire set. Then lets test multiple test sizes to see which\n",
    "#one performs the best across the board\n",
    "dfr2 = pd.DataFrame()\n",
    "bernoulli_scores = [x_b]\n",
    "tree_scores = [x_d]\n",
    "forest_scores = [x_r]\n",
    "test_sizes = [.1,.2,.3,.4,.5]\n",
    "for p in test_sizes:\n",
    "    X_train, X_test, y_train, y_test = train_test_split(X, y, test_size=p, random_state=0)\n",
    "    bernoulli_fit = bnb.fit(X_train, y_train)\n",
    "    x_b2 = cross_val_score(bernoulli_fit, X_test, y_test, cv=10).mean()\n",
    "    decision_tree_fit = decision_tree.fit(X_train,y_train)\n",
    "    x_d2 = cross_val_score(decision_tree_fit, X_test, y_test, cv=10).mean()\n",
    "    forest_fit = rfc.fit(X_train, y_train)\n",
    "    x_r2 = cross_val_score(forest_fit, X_test, y_test, cv=10).mean()\n",
    "    bernoulli_scores.append(x_b2)\n",
    "    tree_scores.append(x_d2)\n",
    "    forest_scores.append(x_r2)"
   ]
  },
  {
   "cell_type": "code",
   "execution_count": 20,
   "metadata": {
    "collapsed": false
   },
   "outputs": [
    {
     "data": {
      "text/html": [
       "<div>\n",
       "<table border=\"1\" class=\"dataframe\">\n",
       "  <thead>\n",
       "    <tr style=\"text-align: right;\">\n",
       "      <th></th>\n",
       "      <th>bernoulli</th>\n",
       "      <th>decision_tree</th>\n",
       "      <th>random_forest</th>\n",
       "    </tr>\n",
       "  </thead>\n",
       "  <tbody>\n",
       "    <tr>\n",
       "      <th>total_set</th>\n",
       "      <td>0.851766</td>\n",
       "      <td>0.817855</td>\n",
       "      <td>0.874380</td>\n",
       "    </tr>\n",
       "    <tr>\n",
       "      <th>test_set=.1</th>\n",
       "      <td>0.883179</td>\n",
       "      <td>0.808135</td>\n",
       "      <td>0.886111</td>\n",
       "    </tr>\n",
       "    <tr>\n",
       "      <th>test_set=.2</th>\n",
       "      <td>0.884569</td>\n",
       "      <td>0.826581</td>\n",
       "      <td>0.887974</td>\n",
       "    </tr>\n",
       "    <tr>\n",
       "      <th>test_set=.3</th>\n",
       "      <td>0.876915</td>\n",
       "      <td>0.824283</td>\n",
       "      <td>0.882752</td>\n",
       "    </tr>\n",
       "    <tr>\n",
       "      <th>test_set=.4</th>\n",
       "      <td>0.867724</td>\n",
       "      <td>0.829962</td>\n",
       "      <td>0.880390</td>\n",
       "    </tr>\n",
       "    <tr>\n",
       "      <th>test_set=.5</th>\n",
       "      <td>0.865330</td>\n",
       "      <td>0.829667</td>\n",
       "      <td>0.876632</td>\n",
       "    </tr>\n",
       "  </tbody>\n",
       "</table>\n",
       "</div>"
      ],
      "text/plain": [
       "             bernoulli  decision_tree  random_forest\n",
       "total_set     0.851766       0.817855       0.874380\n",
       "test_set=.1   0.883179       0.808135       0.886111\n",
       "test_set=.2   0.884569       0.826581       0.887974\n",
       "test_set=.3   0.876915       0.824283       0.882752\n",
       "test_set=.4   0.867724       0.829962       0.880390\n",
       "test_set=.5   0.865330       0.829667       0.876632"
      ]
     },
     "execution_count": 20,
     "metadata": {},
     "output_type": "execute_result"
    }
   ],
   "source": [
    "#lets add these scores to a data frame to easily analyze them\n",
    "dfr2['bernoulli'] = bernoulli_scores\n",
    "dfr2.index = ['total_set','test_set=.1','test_set=.2','test_set=.3','test_set=.4','test_set=.5']\n",
    "dfr2['decision_tree'] = tree_scores\n",
    "dfr2['random_forest'] = forest_scores\n",
    "dfr2"
   ]
  },
  {
   "cell_type": "code",
   "execution_count": 21,
   "metadata": {
    "collapsed": true
   },
   "outputs": [],
   "source": [
    "#as you can see from the numbers, random forest classifiers performs better than the other two in every category\n",
    "#although bernoulli classification actually hold its own. It also reaches a peak at the test size of .2.\n",
    "#now lets test it on two other data sets to see if we can get good results with these word lists and classifier of our choice\n",
    "df_2 = getDF(r\"C:\\Users\\jmfra\\Downloads\\reviews_Amazon_Instant_Video_5.json.gz\")\n",
    "df_3 = getDF(r\"C:\\Users\\jmfra\\Downloads\\reviews_Digital_Music_5.json.gz\")"
   ]
  },
  {
   "cell_type": "code",
   "execution_count": 22,
   "metadata": {
    "collapsed": true
   },
   "outputs": [],
   "source": [
    "#we have to do the same exact data preperation for these two sets as the original one \n",
    "for key in keywords_good:\n",
    "    df_2[str(key)] = df_2.reviewText.str.contains(str(key), case=False)    "
   ]
  },
  {
   "cell_type": "code",
   "execution_count": 23,
   "metadata": {
    "collapsed": true
   },
   "outputs": [],
   "source": [
    "for key in keywords_good:\n",
    "    df_3[str(key)] = df_3.reviewText.str.contains(str(key), case=False)"
   ]
  },
  {
   "cell_type": "code",
   "execution_count": 24,
   "metadata": {
    "collapsed": true
   },
   "outputs": [],
   "source": [
    "for key in keywords_bad:\n",
    "    df_2[str(key)] = df_2.reviewText.str.contains(str(key), case=True)"
   ]
  },
  {
   "cell_type": "code",
   "execution_count": 25,
   "metadata": {
    "collapsed": true
   },
   "outputs": [],
   "source": [
    "for key in keywords_bad:\n",
    "    df_3[str(key)] = df_3.reviewText.str.contains(str(key), case=True)"
   ]
  },
  {
   "cell_type": "code",
   "execution_count": 26,
   "metadata": {
    "collapsed": true
   },
   "outputs": [],
   "source": [
    "df_2['overall']  = np.where(df_2['overall'] >= 4,1,0)\n",
    "df_2['overall_bool'] = (df_2['overall'] == 0)\n",
    "df_3['overall']  = np.where(df_3['overall'] >= 4,1,0)\n",
    "df_3['overall_bool'] = (df_3['overall'] == 0)\n",
    "X2 = df[keywords_good + keywords_bad]\n",
    "y2 = df['overall_bool']\n",
    "X3 = df[keywords_good + keywords_bad]\n",
    "y3 = df['overall_bool']"
   ]
  },
  {
   "cell_type": "code",
   "execution_count": 27,
   "metadata": {
    "collapsed": false
   },
   "outputs": [
    {
     "name": "stdout",
     "output_type": "stream",
     "text": [
      "instant video review socre: 0.877985308939\n",
      "digital music review score: 0.876036464792\n"
     ]
    }
   ],
   "source": [
    "#using the split from earlier and a fit on our training set, we can predict good or bad in the new set\n",
    "X_train, X_test, y_train, y_test = train_test_split(X, y, test_size=.2, random_state=0)\n",
    "forest_fit = rfc.fit(X_train, y_train)\n",
    "x_r22 = cross_val_score(forest_fit, X2, y2, cv=10).mean()\n",
    "x_r23 = cross_val_score(forest_fit, X3, y3, cv=10).mean()\n",
    "print('instant video review socre:',x_r22)\n",
    "print('digital music review score:',x_r23)"
   ]
  },
  {
   "cell_type": "markdown",
   "metadata": {
    "collapsed": true
   },
   "source": [
    "As you can see, the score only dropped by roughly .01 implying that our word list is not only a pretty good identifier of good and bad reviews, but that random forest classifiers are likely going to outperform their counterparts in these scenarios"
   ]
  },
  {
   "cell_type": "code",
   "execution_count": null,
   "metadata": {
    "collapsed": true
   },
   "outputs": [],
   "source": []
  }
 ],
 "metadata": {
  "anaconda-cloud": {},
  "kernelspec": {
   "display_name": "Python [default]",
   "language": "python",
   "name": "python3"
  },
  "language_info": {
   "codemirror_mode": {
    "name": "ipython",
    "version": 3
   },
   "file_extension": ".py",
   "mimetype": "text/x-python",
   "name": "python",
   "nbconvert_exporter": "python",
   "pygments_lexer": "ipython3",
   "version": "3.5.2"
  }
 },
 "nbformat": 4,
 "nbformat_minor": 1
}
