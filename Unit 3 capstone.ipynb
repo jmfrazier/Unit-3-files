{
 "cells": [
  {
   "cell_type": "markdown",
   "metadata": {},
   "source": [
    "## Unit 3 Capstone\n",
    "In this notebook, I am going to try and predict which kids in a portugese school will need extra help in order to improve their scores "
   ]
  },
  {
   "cell_type": "code",
   "execution_count": 387,
   "metadata": {
    "collapsed": true
   },
   "outputs": [],
   "source": [
    "import pandas as pd\n",
    "import numpy as np\n",
    "import scipy\n",
    "import matplotlib.pyplot as plt\n",
    "import seaborn as sns\n",
    "from sklearn import ensemble\n",
    "from sklearn.model_selection import cross_val_score\n",
    "from sklearn.model_selection import train_test_split\n",
    "from sklearn import svm\n",
    "from sklearn.neighbors import KNeighborsRegressor\n",
    "from sklearn import linear_model\n",
    "from catboost import Pool, CatBoostClassifier, cv, CatboostIpythonWidget\n",
    "from sklearn import preprocessing\n",
    "from sklearn.decomposition import PCA \n",
    "from matplotlib.mlab import PCA as mlabPCA"
   ]
  },
  {
   "cell_type": "code",
   "execution_count": 529,
   "metadata": {
    "collapsed": false
   },
   "outputs": [],
   "source": [
    "#lets load the data\n",
    "df = pd.read_csv(r'C:\\Users\\jmfra\\OneDrive\\Documents\\Thinkful Data Science Files\\3 capstone data\\student-por.csv')"
   ]
  },
  {
   "cell_type": "code",
   "execution_count": 530,
   "metadata": {
    "collapsed": false
   },
   "outputs": [],
   "source": [
    "#at first look the file has a few extra columns that python will hide so lets lengthen the display\n",
    "pd.options.display.max_columns = 999"
   ]
  },
  {
   "cell_type": "code",
   "execution_count": 531,
   "metadata": {
    "collapsed": false,
    "scrolled": true
   },
   "outputs": [
    {
     "data": {
      "text/html": [
       "<div>\n",
       "<table border=\"1\" class=\"dataframe\">\n",
       "  <thead>\n",
       "    <tr style=\"text-align: right;\">\n",
       "      <th></th>\n",
       "      <th>school</th>\n",
       "      <th>sex</th>\n",
       "      <th>age</th>\n",
       "      <th>address</th>\n",
       "      <th>famsize</th>\n",
       "      <th>Pstatus</th>\n",
       "      <th>Medu</th>\n",
       "      <th>Fedu</th>\n",
       "      <th>Mjob</th>\n",
       "      <th>Fjob</th>\n",
       "      <th>reason</th>\n",
       "      <th>guardian</th>\n",
       "      <th>traveltime</th>\n",
       "      <th>studytime</th>\n",
       "      <th>failures</th>\n",
       "      <th>schoolsup</th>\n",
       "      <th>famsup</th>\n",
       "      <th>paid</th>\n",
       "      <th>activities</th>\n",
       "      <th>nursery</th>\n",
       "      <th>higher</th>\n",
       "      <th>internet</th>\n",
       "      <th>romantic</th>\n",
       "      <th>famrel</th>\n",
       "      <th>freetime</th>\n",
       "      <th>goout</th>\n",
       "      <th>Dalc</th>\n",
       "      <th>Walc</th>\n",
       "      <th>health</th>\n",
       "      <th>absences</th>\n",
       "      <th>G1</th>\n",
       "      <th>G2</th>\n",
       "      <th>G3</th>\n",
       "    </tr>\n",
       "  </thead>\n",
       "  <tbody>\n",
       "    <tr>\n",
       "      <th>0</th>\n",
       "      <td>GP</td>\n",
       "      <td>F</td>\n",
       "      <td>18</td>\n",
       "      <td>U</td>\n",
       "      <td>GT3</td>\n",
       "      <td>A</td>\n",
       "      <td>4</td>\n",
       "      <td>4</td>\n",
       "      <td>at_home</td>\n",
       "      <td>teacher</td>\n",
       "      <td>course</td>\n",
       "      <td>mother</td>\n",
       "      <td>2</td>\n",
       "      <td>2</td>\n",
       "      <td>0</td>\n",
       "      <td>yes</td>\n",
       "      <td>no</td>\n",
       "      <td>no</td>\n",
       "      <td>no</td>\n",
       "      <td>yes</td>\n",
       "      <td>yes</td>\n",
       "      <td>no</td>\n",
       "      <td>no</td>\n",
       "      <td>4</td>\n",
       "      <td>3</td>\n",
       "      <td>4</td>\n",
       "      <td>1</td>\n",
       "      <td>1</td>\n",
       "      <td>3</td>\n",
       "      <td>4</td>\n",
       "      <td>0</td>\n",
       "      <td>11</td>\n",
       "      <td>11</td>\n",
       "    </tr>\n",
       "    <tr>\n",
       "      <th>1</th>\n",
       "      <td>GP</td>\n",
       "      <td>F</td>\n",
       "      <td>17</td>\n",
       "      <td>U</td>\n",
       "      <td>GT3</td>\n",
       "      <td>T</td>\n",
       "      <td>1</td>\n",
       "      <td>1</td>\n",
       "      <td>at_home</td>\n",
       "      <td>other</td>\n",
       "      <td>course</td>\n",
       "      <td>father</td>\n",
       "      <td>1</td>\n",
       "      <td>2</td>\n",
       "      <td>0</td>\n",
       "      <td>no</td>\n",
       "      <td>yes</td>\n",
       "      <td>no</td>\n",
       "      <td>no</td>\n",
       "      <td>no</td>\n",
       "      <td>yes</td>\n",
       "      <td>yes</td>\n",
       "      <td>no</td>\n",
       "      <td>5</td>\n",
       "      <td>3</td>\n",
       "      <td>3</td>\n",
       "      <td>1</td>\n",
       "      <td>1</td>\n",
       "      <td>3</td>\n",
       "      <td>2</td>\n",
       "      <td>9</td>\n",
       "      <td>11</td>\n",
       "      <td>11</td>\n",
       "    </tr>\n",
       "    <tr>\n",
       "      <th>2</th>\n",
       "      <td>GP</td>\n",
       "      <td>F</td>\n",
       "      <td>15</td>\n",
       "      <td>U</td>\n",
       "      <td>LE3</td>\n",
       "      <td>T</td>\n",
       "      <td>1</td>\n",
       "      <td>1</td>\n",
       "      <td>at_home</td>\n",
       "      <td>other</td>\n",
       "      <td>other</td>\n",
       "      <td>mother</td>\n",
       "      <td>1</td>\n",
       "      <td>2</td>\n",
       "      <td>0</td>\n",
       "      <td>yes</td>\n",
       "      <td>no</td>\n",
       "      <td>no</td>\n",
       "      <td>no</td>\n",
       "      <td>yes</td>\n",
       "      <td>yes</td>\n",
       "      <td>yes</td>\n",
       "      <td>no</td>\n",
       "      <td>4</td>\n",
       "      <td>3</td>\n",
       "      <td>2</td>\n",
       "      <td>2</td>\n",
       "      <td>3</td>\n",
       "      <td>3</td>\n",
       "      <td>6</td>\n",
       "      <td>12</td>\n",
       "      <td>13</td>\n",
       "      <td>12</td>\n",
       "    </tr>\n",
       "    <tr>\n",
       "      <th>3</th>\n",
       "      <td>GP</td>\n",
       "      <td>F</td>\n",
       "      <td>15</td>\n",
       "      <td>U</td>\n",
       "      <td>GT3</td>\n",
       "      <td>T</td>\n",
       "      <td>4</td>\n",
       "      <td>2</td>\n",
       "      <td>health</td>\n",
       "      <td>services</td>\n",
       "      <td>home</td>\n",
       "      <td>mother</td>\n",
       "      <td>1</td>\n",
       "      <td>3</td>\n",
       "      <td>0</td>\n",
       "      <td>no</td>\n",
       "      <td>yes</td>\n",
       "      <td>no</td>\n",
       "      <td>yes</td>\n",
       "      <td>yes</td>\n",
       "      <td>yes</td>\n",
       "      <td>yes</td>\n",
       "      <td>yes</td>\n",
       "      <td>3</td>\n",
       "      <td>2</td>\n",
       "      <td>2</td>\n",
       "      <td>1</td>\n",
       "      <td>1</td>\n",
       "      <td>5</td>\n",
       "      <td>0</td>\n",
       "      <td>14</td>\n",
       "      <td>14</td>\n",
       "      <td>14</td>\n",
       "    </tr>\n",
       "    <tr>\n",
       "      <th>4</th>\n",
       "      <td>GP</td>\n",
       "      <td>F</td>\n",
       "      <td>16</td>\n",
       "      <td>U</td>\n",
       "      <td>GT3</td>\n",
       "      <td>T</td>\n",
       "      <td>3</td>\n",
       "      <td>3</td>\n",
       "      <td>other</td>\n",
       "      <td>other</td>\n",
       "      <td>home</td>\n",
       "      <td>father</td>\n",
       "      <td>1</td>\n",
       "      <td>2</td>\n",
       "      <td>0</td>\n",
       "      <td>no</td>\n",
       "      <td>yes</td>\n",
       "      <td>no</td>\n",
       "      <td>no</td>\n",
       "      <td>yes</td>\n",
       "      <td>yes</td>\n",
       "      <td>no</td>\n",
       "      <td>no</td>\n",
       "      <td>4</td>\n",
       "      <td>3</td>\n",
       "      <td>2</td>\n",
       "      <td>1</td>\n",
       "      <td>2</td>\n",
       "      <td>5</td>\n",
       "      <td>0</td>\n",
       "      <td>11</td>\n",
       "      <td>13</td>\n",
       "      <td>13</td>\n",
       "    </tr>\n",
       "  </tbody>\n",
       "</table>\n",
       "</div>"
      ],
      "text/plain": [
       "  school sex  age address famsize Pstatus  Medu  Fedu     Mjob      Fjob  \\\n",
       "0     GP   F   18       U     GT3       A     4     4  at_home   teacher   \n",
       "1     GP   F   17       U     GT3       T     1     1  at_home     other   \n",
       "2     GP   F   15       U     LE3       T     1     1  at_home     other   \n",
       "3     GP   F   15       U     GT3       T     4     2   health  services   \n",
       "4     GP   F   16       U     GT3       T     3     3    other     other   \n",
       "\n",
       "   reason guardian  traveltime  studytime  failures schoolsup famsup paid  \\\n",
       "0  course   mother           2          2         0       yes     no   no   \n",
       "1  course   father           1          2         0        no    yes   no   \n",
       "2   other   mother           1          2         0       yes     no   no   \n",
       "3    home   mother           1          3         0        no    yes   no   \n",
       "4    home   father           1          2         0        no    yes   no   \n",
       "\n",
       "  activities nursery higher internet romantic  famrel  freetime  goout  Dalc  \\\n",
       "0         no     yes    yes       no       no       4         3      4     1   \n",
       "1         no      no    yes      yes       no       5         3      3     1   \n",
       "2         no     yes    yes      yes       no       4         3      2     2   \n",
       "3        yes     yes    yes      yes      yes       3         2      2     1   \n",
       "4         no     yes    yes       no       no       4         3      2     1   \n",
       "\n",
       "   Walc  health  absences  G1  G2  G3  \n",
       "0     1       3         4   0  11  11  \n",
       "1     1       3         2   9  11  11  \n",
       "2     3       3         6  12  13  12  \n",
       "3     1       5         0  14  14  14  \n",
       "4     2       5         0  11  13  13  "
      ]
     },
     "execution_count": 531,
     "metadata": {},
     "output_type": "execute_result"
    }
   ],
   "source": [
    "df.head()"
   ]
  },
  {
   "cell_type": "code",
   "execution_count": 532,
   "metadata": {
    "collapsed": false
   },
   "outputs": [
    {
     "data": {
      "image/png": "[encoded data removed]",
      "text/plain": [
       "<matplotlib.figure.Figure at 0x213b8120c88>"
      ]
     },
     "metadata": {},
     "output_type": "display_data"
    }
   ],
   "source": [
    "#lets check the already continous variables to see if there are any correlations\n",
    "sns.heatmap(df.corr(), linewidths=.1)\n",
    "plt.show()"
   ]
  },
  {
   "cell_type": "code",
   "execution_count": 533,
   "metadata": {
    "collapsed": false
   },
   "outputs": [],
   "source": [
    "#number of days during the week and weekend a kid drinks are very directly related so lets combine them and make it total\n",
    "#number of days during the week\n",
    "df['Walc'] = df['Walc'] + df['Dalc']\n",
    "df = df.drop('Dalc',1)"
   ]
  },
  {
   "cell_type": "code",
   "execution_count": 534,
   "metadata": {
    "collapsed": false
   },
   "outputs": [
    {
     "data": {
      "text/plain": [
       "count    649.000000\n",
       "mean      11.625064\n",
       "std        2.833360\n",
       "min        1.333333\n",
       "25%       10.000000\n",
       "50%       11.666667\n",
       "75%       13.333333\n",
       "max       18.666667\n",
       "Name: AvgG, dtype: float64"
      ]
     },
     "execution_count": 534,
     "metadata": {},
     "output_type": "execute_result"
    }
   ],
   "source": [
    "#our independent variables are grades in 3 periods. they all have colors implying almost a 100% correlation so lets redefine\n",
    "#them by averaging them into one overall score\n",
    "df['AvgG'] = (df['G1'] + df['G2'] + df['G3']) / 3\n",
    "df = df.drop(['G1', 'G2', 'G3'],1)\n",
    "df.AvgG.describe()"
   ]
  },
  {
   "cell_type": "code",
   "execution_count": 535,
   "metadata": {
    "collapsed": false
   },
   "outputs": [],
   "source": [
    "#from the meta data, Fedu and Medu deccribe the education level of each of a childs parents. We would expect the highest level of\n",
    "#education in the family to be more important to a childs likelyhood of failing courses than each indicidual. lets create a knew\n",
    "#column that contains the highest higher value from the two columns and then delete the originals\n",
    "df['Famedu'] = np.where(df['Medu'] >= df['Fedu'], df['Medu'], df['Fedu'])\n",
    "df = df.drop(['Medu', 'Fedu'], 1)"
   ]
  },
  {
   "cell_type": "code",
   "execution_count": 536,
   "metadata": {
    "collapsed": false
   },
   "outputs": [
    {
     "data": {
      "text/plain": [
       "Pstatus\n",
       "A     80\n",
       "T    569\n",
       "Name: Mjob, dtype: int64"
      ]
     },
     "execution_count": 536,
     "metadata": {},
     "output_type": "execute_result"
    }
   ],
   "source": [
    "df['Mjob'].groupby(df['Pstatus']).count()"
   ]
  },
  {
   "cell_type": "code",
   "execution_count": 537,
   "metadata": {
    "collapsed": false
   },
   "outputs": [
    {
     "data": {
      "text/plain": [
       "guardian\n",
       "father    153\n",
       "mother    455\n",
       "other      41\n",
       "Name: Mjob, dtype: int64"
      ]
     },
     "execution_count": 537,
     "metadata": {},
     "output_type": "execute_result"
    }
   ],
   "source": [
    "df['Mjob'].groupby(df['guardian']).count()"
   ]
  },
  {
   "cell_type": "code",
   "execution_count": 538,
   "metadata": {
    "collapsed": false
   },
   "outputs": [],
   "source": [
    "#the only remaining column that sticks out is guardian. It lists the guardian of the parent as mother father or other. My issue\n",
    "#with this column is that even when the parents are not split up (another column) someone is still listed implying its arbitrary\n",
    "#for a lot of the entries since 569 of the 649 entries are still together. It might be an important piece of information for some\n",
    "#of these, but we do not have enough information to know which entries are important\n",
    "df = df.drop('guardian',1) "
   ]
  },
  {
   "cell_type": "code",
   "execution_count": 539,
   "metadata": {
    "collapsed": false
   },
   "outputs": [
    {
     "data": {
      "image/png": "[encoded data removed]",
      "text/plain": [
       "<matplotlib.figure.Figure at 0x213b81edb70>"
      ]
     },
     "metadata": {},
     "output_type": "display_data"
    }
   ],
   "source": [
    "sns.heatmap(df.corr(), linewidths=.1)\n",
    "plt.show()"
   ]
  },
  {
   "cell_type": "code",
   "execution_count": 540,
   "metadata": {
    "collapsed": false
   },
   "outputs": [
    {
     "data": {
      "text/html": [
       "<div>\n",
       "<table border=\"1\" class=\"dataframe\">\n",
       "  <thead>\n",
       "    <tr style=\"text-align: right;\">\n",
       "      <th></th>\n",
       "      <th>school</th>\n",
       "      <th>sex</th>\n",
       "      <th>age</th>\n",
       "      <th>address</th>\n",
       "      <th>famsize</th>\n",
       "      <th>Pstatus</th>\n",
       "      <th>Mjob</th>\n",
       "      <th>Fjob</th>\n",
       "      <th>reason</th>\n",
       "      <th>traveltime</th>\n",
       "      <th>studytime</th>\n",
       "      <th>failures</th>\n",
       "      <th>schoolsup</th>\n",
       "      <th>famsup</th>\n",
       "      <th>paid</th>\n",
       "      <th>activities</th>\n",
       "      <th>nursery</th>\n",
       "      <th>higher</th>\n",
       "      <th>internet</th>\n",
       "      <th>romantic</th>\n",
       "      <th>famrel</th>\n",
       "      <th>freetime</th>\n",
       "      <th>goout</th>\n",
       "      <th>Walc</th>\n",
       "      <th>health</th>\n",
       "      <th>absences</th>\n",
       "      <th>AvgG</th>\n",
       "      <th>Famedu</th>\n",
       "    </tr>\n",
       "  </thead>\n",
       "  <tbody>\n",
       "    <tr>\n",
       "      <th>0</th>\n",
       "      <td>1.0</td>\n",
       "      <td>1.0</td>\n",
       "      <td>18</td>\n",
       "      <td>0.0</td>\n",
       "      <td>1.0</td>\n",
       "      <td>1.0</td>\n",
       "      <td>at_home</td>\n",
       "      <td>teacher</td>\n",
       "      <td>course</td>\n",
       "      <td>2</td>\n",
       "      <td>2</td>\n",
       "      <td>0</td>\n",
       "      <td>0.0</td>\n",
       "      <td>1.0</td>\n",
       "      <td>1.0</td>\n",
       "      <td>1.0</td>\n",
       "      <td>0.0</td>\n",
       "      <td>0.0</td>\n",
       "      <td>1.0</td>\n",
       "      <td>1.0</td>\n",
       "      <td>4</td>\n",
       "      <td>3</td>\n",
       "      <td>4</td>\n",
       "      <td>2</td>\n",
       "      <td>3</td>\n",
       "      <td>4</td>\n",
       "      <td>7.333333</td>\n",
       "      <td>4</td>\n",
       "    </tr>\n",
       "    <tr>\n",
       "      <th>1</th>\n",
       "      <td>1.0</td>\n",
       "      <td>1.0</td>\n",
       "      <td>17</td>\n",
       "      <td>0.0</td>\n",
       "      <td>1.0</td>\n",
       "      <td>0.0</td>\n",
       "      <td>at_home</td>\n",
       "      <td>other</td>\n",
       "      <td>course</td>\n",
       "      <td>1</td>\n",
       "      <td>2</td>\n",
       "      <td>0</td>\n",
       "      <td>1.0</td>\n",
       "      <td>0.0</td>\n",
       "      <td>1.0</td>\n",
       "      <td>1.0</td>\n",
       "      <td>1.0</td>\n",
       "      <td>0.0</td>\n",
       "      <td>0.0</td>\n",
       "      <td>1.0</td>\n",
       "      <td>5</td>\n",
       "      <td>3</td>\n",
       "      <td>3</td>\n",
       "      <td>2</td>\n",
       "      <td>3</td>\n",
       "      <td>2</td>\n",
       "      <td>10.333333</td>\n",
       "      <td>1</td>\n",
       "    </tr>\n",
       "    <tr>\n",
       "      <th>2</th>\n",
       "      <td>1.0</td>\n",
       "      <td>1.0</td>\n",
       "      <td>15</td>\n",
       "      <td>0.0</td>\n",
       "      <td>0.0</td>\n",
       "      <td>0.0</td>\n",
       "      <td>at_home</td>\n",
       "      <td>other</td>\n",
       "      <td>other</td>\n",
       "      <td>1</td>\n",
       "      <td>2</td>\n",
       "      <td>0</td>\n",
       "      <td>0.0</td>\n",
       "      <td>1.0</td>\n",
       "      <td>1.0</td>\n",
       "      <td>1.0</td>\n",
       "      <td>0.0</td>\n",
       "      <td>0.0</td>\n",
       "      <td>0.0</td>\n",
       "      <td>1.0</td>\n",
       "      <td>4</td>\n",
       "      <td>3</td>\n",
       "      <td>2</td>\n",
       "      <td>5</td>\n",
       "      <td>3</td>\n",
       "      <td>6</td>\n",
       "      <td>12.333333</td>\n",
       "      <td>1</td>\n",
       "    </tr>\n",
       "    <tr>\n",
       "      <th>3</th>\n",
       "      <td>1.0</td>\n",
       "      <td>1.0</td>\n",
       "      <td>15</td>\n",
       "      <td>0.0</td>\n",
       "      <td>1.0</td>\n",
       "      <td>0.0</td>\n",
       "      <td>health</td>\n",
       "      <td>services</td>\n",
       "      <td>home</td>\n",
       "      <td>1</td>\n",
       "      <td>3</td>\n",
       "      <td>0</td>\n",
       "      <td>1.0</td>\n",
       "      <td>0.0</td>\n",
       "      <td>1.0</td>\n",
       "      <td>0.0</td>\n",
       "      <td>0.0</td>\n",
       "      <td>0.0</td>\n",
       "      <td>0.0</td>\n",
       "      <td>0.0</td>\n",
       "      <td>3</td>\n",
       "      <td>2</td>\n",
       "      <td>2</td>\n",
       "      <td>2</td>\n",
       "      <td>5</td>\n",
       "      <td>0</td>\n",
       "      <td>14.000000</td>\n",
       "      <td>4</td>\n",
       "    </tr>\n",
       "    <tr>\n",
       "      <th>4</th>\n",
       "      <td>1.0</td>\n",
       "      <td>1.0</td>\n",
       "      <td>16</td>\n",
       "      <td>0.0</td>\n",
       "      <td>1.0</td>\n",
       "      <td>0.0</td>\n",
       "      <td>other</td>\n",
       "      <td>other</td>\n",
       "      <td>home</td>\n",
       "      <td>1</td>\n",
       "      <td>2</td>\n",
       "      <td>0</td>\n",
       "      <td>1.0</td>\n",
       "      <td>0.0</td>\n",
       "      <td>1.0</td>\n",
       "      <td>1.0</td>\n",
       "      <td>0.0</td>\n",
       "      <td>0.0</td>\n",
       "      <td>1.0</td>\n",
       "      <td>1.0</td>\n",
       "      <td>4</td>\n",
       "      <td>3</td>\n",
       "      <td>2</td>\n",
       "      <td>3</td>\n",
       "      <td>5</td>\n",
       "      <td>0</td>\n",
       "      <td>12.333333</td>\n",
       "      <td>3</td>\n",
       "    </tr>\n",
       "  </tbody>\n",
       "</table>\n",
       "</div>"
      ],
      "text/plain": [
       "   school  sex  age  address  famsize  Pstatus     Mjob      Fjob  reason  \\\n",
       "0     1.0  1.0   18      0.0      1.0      1.0  at_home   teacher  course   \n",
       "1     1.0  1.0   17      0.0      1.0      0.0  at_home     other  course   \n",
       "2     1.0  1.0   15      0.0      0.0      0.0  at_home     other   other   \n",
       "3     1.0  1.0   15      0.0      1.0      0.0   health  services    home   \n",
       "4     1.0  1.0   16      0.0      1.0      0.0    other     other    home   \n",
       "\n",
       "   traveltime  studytime  failures  schoolsup  famsup  paid  activities  \\\n",
       "0           2          2         0        0.0     1.0   1.0         1.0   \n",
       "1           1          2         0        1.0     0.0   1.0         1.0   \n",
       "2           1          2         0        0.0     1.0   1.0         1.0   \n",
       "3           1          3         0        1.0     0.0   1.0         0.0   \n",
       "4           1          2         0        1.0     0.0   1.0         1.0   \n",
       "\n",
       "   nursery  higher  internet  romantic  famrel  freetime  goout  Walc  health  \\\n",
       "0      0.0     0.0       1.0       1.0       4         3      4     2       3   \n",
       "1      1.0     0.0       0.0       1.0       5         3      3     2       3   \n",
       "2      0.0     0.0       0.0       1.0       4         3      2     5       3   \n",
       "3      0.0     0.0       0.0       0.0       3         2      2     2       5   \n",
       "4      0.0     0.0       1.0       1.0       4         3      2     3       5   \n",
       "\n",
       "   absences       AvgG  Famedu  \n",
       "0         4   7.333333       4  \n",
       "1         2  10.333333       1  \n",
       "2         6  12.333333       1  \n",
       "3         0  14.000000       4  \n",
       "4         0  12.333333       3  "
      ]
     },
     "execution_count": 540,
     "metadata": {},
     "output_type": "execute_result"
    }
   ],
   "source": [
    "#Now lets take all of the categorical varaibles with 2 inputs and transfer them into booleans to make them easy to work with\n",
    "boolist = ['school', 'sex', 'address', 'famsize', 'Pstatus', 'schoolsup', \n",
    "           'famsup', 'paid', 'activities', 'nursery', 'higher', 'internet', \n",
    "           'romantic']\n",
    "for x in boolist:\n",
    "    df[x] = pd.get_dummies(df[x])\n",
    "df.head()"
   ]
  },
  {
   "cell_type": "code",
   "execution_count": 541,
   "metadata": {
    "collapsed": true
   },
   "outputs": [],
   "source": [
    "#before we continue, getting dummies is the best way to handle categorical variables with more than 2 inputs, however there \n",
    "#might be an issue with having too many features since we do not even have 600 inputs so I am going to copy the data so we \n",
    "#can test both\n",
    "df_labelencode = df.copy()"
   ]
  },
  {
   "cell_type": "code",
   "execution_count": 542,
   "metadata": {
    "collapsed": false
   },
   "outputs": [],
   "source": [
    "#lets create columns for each input in the remaining categorical variables\n",
    "l2 =['Mjob', 'Fjob', 'reason']\n",
    "for x in l2:\n",
    "    df = pd.concat([df, pd.get_dummies(df[x])], axis=1)\n",
    "    df = df.drop(x,1)"
   ]
  },
  {
   "cell_type": "code",
   "execution_count": 543,
   "metadata": {
    "collapsed": false,
    "scrolled": false
   },
   "outputs": [
    {
     "data": {
      "text/html": [
       "<div>\n",
       "<table border=\"1\" class=\"dataframe\">\n",
       "  <thead>\n",
       "    <tr style=\"text-align: right;\">\n",
       "      <th></th>\n",
       "      <th>school</th>\n",
       "      <th>sex</th>\n",
       "      <th>age</th>\n",
       "      <th>address</th>\n",
       "      <th>famsize</th>\n",
       "      <th>Pstatus</th>\n",
       "      <th>traveltime</th>\n",
       "      <th>studytime</th>\n",
       "      <th>failures</th>\n",
       "      <th>schoolsup</th>\n",
       "      <th>famsup</th>\n",
       "      <th>paid</th>\n",
       "      <th>activities</th>\n",
       "      <th>nursery</th>\n",
       "      <th>higher</th>\n",
       "      <th>internet</th>\n",
       "      <th>romantic</th>\n",
       "      <th>famrel</th>\n",
       "      <th>freetime</th>\n",
       "      <th>goout</th>\n",
       "      <th>Walc</th>\n",
       "      <th>health</th>\n",
       "      <th>absences</th>\n",
       "      <th>AvgG</th>\n",
       "      <th>Famedu</th>\n",
       "      <th>at_home</th>\n",
       "      <th>health</th>\n",
       "      <th>other</th>\n",
       "      <th>services</th>\n",
       "      <th>teacher</th>\n",
       "      <th>at_home</th>\n",
       "      <th>health</th>\n",
       "      <th>other</th>\n",
       "      <th>services</th>\n",
       "      <th>teacher</th>\n",
       "      <th>course</th>\n",
       "      <th>home</th>\n",
       "      <th>other</th>\n",
       "      <th>reputation</th>\n",
       "    </tr>\n",
       "  </thead>\n",
       "  <tbody>\n",
       "    <tr>\n",
       "      <th>0</th>\n",
       "      <td>1.0</td>\n",
       "      <td>1.0</td>\n",
       "      <td>18</td>\n",
       "      <td>0.0</td>\n",
       "      <td>1.0</td>\n",
       "      <td>1.0</td>\n",
       "      <td>2</td>\n",
       "      <td>2</td>\n",
       "      <td>0</td>\n",
       "      <td>0.0</td>\n",
       "      <td>1.0</td>\n",
       "      <td>1.0</td>\n",
       "      <td>1.0</td>\n",
       "      <td>0.0</td>\n",
       "      <td>0.0</td>\n",
       "      <td>1.0</td>\n",
       "      <td>1.0</td>\n",
       "      <td>4</td>\n",
       "      <td>3</td>\n",
       "      <td>4</td>\n",
       "      <td>2</td>\n",
       "      <td>3</td>\n",
       "      <td>4</td>\n",
       "      <td>7.333333</td>\n",
       "      <td>4</td>\n",
       "      <td>1.0</td>\n",
       "      <td>0.0</td>\n",
       "      <td>0.0</td>\n",
       "      <td>0.0</td>\n",
       "      <td>0.0</td>\n",
       "      <td>0.0</td>\n",
       "      <td>0.0</td>\n",
       "      <td>0.0</td>\n",
       "      <td>0.0</td>\n",
       "      <td>1.0</td>\n",
       "      <td>1.0</td>\n",
       "      <td>0.0</td>\n",
       "      <td>0.0</td>\n",
       "      <td>0.0</td>\n",
       "    </tr>\n",
       "    <tr>\n",
       "      <th>1</th>\n",
       "      <td>1.0</td>\n",
       "      <td>1.0</td>\n",
       "      <td>17</td>\n",
       "      <td>0.0</td>\n",
       "      <td>1.0</td>\n",
       "      <td>0.0</td>\n",
       "      <td>1</td>\n",
       "      <td>2</td>\n",
       "      <td>0</td>\n",
       "      <td>1.0</td>\n",
       "      <td>0.0</td>\n",
       "      <td>1.0</td>\n",
       "      <td>1.0</td>\n",
       "      <td>1.0</td>\n",
       "      <td>0.0</td>\n",
       "      <td>0.0</td>\n",
       "      <td>1.0</td>\n",
       "      <td>5</td>\n",
       "      <td>3</td>\n",
       "      <td>3</td>\n",
       "      <td>2</td>\n",
       "      <td>3</td>\n",
       "      <td>2</td>\n",
       "      <td>10.333333</td>\n",
       "      <td>1</td>\n",
       "      <td>1.0</td>\n",
       "      <td>0.0</td>\n",
       "      <td>0.0</td>\n",
       "      <td>0.0</td>\n",
       "      <td>0.0</td>\n",
       "      <td>0.0</td>\n",
       "      <td>0.0</td>\n",
       "      <td>1.0</td>\n",
       "      <td>0.0</td>\n",
       "      <td>0.0</td>\n",
       "      <td>1.0</td>\n",
       "      <td>0.0</td>\n",
       "      <td>0.0</td>\n",
       "      <td>0.0</td>\n",
       "    </tr>\n",
       "    <tr>\n",
       "      <th>2</th>\n",
       "      <td>1.0</td>\n",
       "      <td>1.0</td>\n",
       "      <td>15</td>\n",
       "      <td>0.0</td>\n",
       "      <td>0.0</td>\n",
       "      <td>0.0</td>\n",
       "      <td>1</td>\n",
       "      <td>2</td>\n",
       "      <td>0</td>\n",
       "      <td>0.0</td>\n",
       "      <td>1.0</td>\n",
       "      <td>1.0</td>\n",
       "      <td>1.0</td>\n",
       "      <td>0.0</td>\n",
       "      <td>0.0</td>\n",
       "      <td>0.0</td>\n",
       "      <td>1.0</td>\n",
       "      <td>4</td>\n",
       "      <td>3</td>\n",
       "      <td>2</td>\n",
       "      <td>5</td>\n",
       "      <td>3</td>\n",
       "      <td>6</td>\n",
       "      <td>12.333333</td>\n",
       "      <td>1</td>\n",
       "      <td>1.0</td>\n",
       "      <td>0.0</td>\n",
       "      <td>0.0</td>\n",
       "      <td>0.0</td>\n",
       "      <td>0.0</td>\n",
       "      <td>0.0</td>\n",
       "      <td>0.0</td>\n",
       "      <td>1.0</td>\n",
       "      <td>0.0</td>\n",
       "      <td>0.0</td>\n",
       "      <td>0.0</td>\n",
       "      <td>0.0</td>\n",
       "      <td>1.0</td>\n",
       "      <td>0.0</td>\n",
       "    </tr>\n",
       "    <tr>\n",
       "      <th>3</th>\n",
       "      <td>1.0</td>\n",
       "      <td>1.0</td>\n",
       "      <td>15</td>\n",
       "      <td>0.0</td>\n",
       "      <td>1.0</td>\n",
       "      <td>0.0</td>\n",
       "      <td>1</td>\n",
       "      <td>3</td>\n",
       "      <td>0</td>\n",
       "      <td>1.0</td>\n",
       "      <td>0.0</td>\n",
       "      <td>1.0</td>\n",
       "      <td>0.0</td>\n",
       "      <td>0.0</td>\n",
       "      <td>0.0</td>\n",
       "      <td>0.0</td>\n",
       "      <td>0.0</td>\n",
       "      <td>3</td>\n",
       "      <td>2</td>\n",
       "      <td>2</td>\n",
       "      <td>2</td>\n",
       "      <td>5</td>\n",
       "      <td>0</td>\n",
       "      <td>14.000000</td>\n",
       "      <td>4</td>\n",
       "      <td>0.0</td>\n",
       "      <td>1.0</td>\n",
       "      <td>0.0</td>\n",
       "      <td>0.0</td>\n",
       "      <td>0.0</td>\n",
       "      <td>0.0</td>\n",
       "      <td>0.0</td>\n",
       "      <td>0.0</td>\n",
       "      <td>1.0</td>\n",
       "      <td>0.0</td>\n",
       "      <td>0.0</td>\n",
       "      <td>1.0</td>\n",
       "      <td>0.0</td>\n",
       "      <td>0.0</td>\n",
       "    </tr>\n",
       "    <tr>\n",
       "      <th>4</th>\n",
       "      <td>1.0</td>\n",
       "      <td>1.0</td>\n",
       "      <td>16</td>\n",
       "      <td>0.0</td>\n",
       "      <td>1.0</td>\n",
       "      <td>0.0</td>\n",
       "      <td>1</td>\n",
       "      <td>2</td>\n",
       "      <td>0</td>\n",
       "      <td>1.0</td>\n",
       "      <td>0.0</td>\n",
       "      <td>1.0</td>\n",
       "      <td>1.0</td>\n",
       "      <td>0.0</td>\n",
       "      <td>0.0</td>\n",
       "      <td>1.0</td>\n",
       "      <td>1.0</td>\n",
       "      <td>4</td>\n",
       "      <td>3</td>\n",
       "      <td>2</td>\n",
       "      <td>3</td>\n",
       "      <td>5</td>\n",
       "      <td>0</td>\n",
       "      <td>12.333333</td>\n",
       "      <td>3</td>\n",
       "      <td>0.0</td>\n",
       "      <td>0.0</td>\n",
       "      <td>1.0</td>\n",
       "      <td>0.0</td>\n",
       "      <td>0.0</td>\n",
       "      <td>0.0</td>\n",
       "      <td>0.0</td>\n",
       "      <td>1.0</td>\n",
       "      <td>0.0</td>\n",
       "      <td>0.0</td>\n",
       "      <td>0.0</td>\n",
       "      <td>1.0</td>\n",
       "      <td>0.0</td>\n",
       "      <td>0.0</td>\n",
       "    </tr>\n",
       "  </tbody>\n",
       "</table>\n",
       "</div>"
      ],
      "text/plain": [
       "   school  sex  age  address  famsize  Pstatus  traveltime  studytime  \\\n",
       "0     1.0  1.0   18      0.0      1.0      1.0           2          2   \n",
       "1     1.0  1.0   17      0.0      1.0      0.0           1          2   \n",
       "2     1.0  1.0   15      0.0      0.0      0.0           1          2   \n",
       "3     1.0  1.0   15      0.0      1.0      0.0           1          3   \n",
       "4     1.0  1.0   16      0.0      1.0      0.0           1          2   \n",
       "\n",
       "   failures  schoolsup  famsup  paid  activities  nursery  higher  internet  \\\n",
       "0         0        0.0     1.0   1.0         1.0      0.0     0.0       1.0   \n",
       "1         0        1.0     0.0   1.0         1.0      1.0     0.0       0.0   \n",
       "2         0        0.0     1.0   1.0         1.0      0.0     0.0       0.0   \n",
       "3         0        1.0     0.0   1.0         0.0      0.0     0.0       0.0   \n",
       "4         0        1.0     0.0   1.0         1.0      0.0     0.0       1.0   \n",
       "\n",
       "   romantic  famrel  freetime  goout  Walc  health  absences       AvgG  \\\n",
       "0       1.0       4         3      4     2       3         4   7.333333   \n",
       "1       1.0       5         3      3     2       3         2  10.333333   \n",
       "2       1.0       4         3      2     5       3         6  12.333333   \n",
       "3       0.0       3         2      2     2       5         0  14.000000   \n",
       "4       1.0       4         3      2     3       5         0  12.333333   \n",
       "\n",
       "   Famedu  at_home  health  other  services  teacher  at_home  health  other  \\\n",
       "0       4      1.0     0.0    0.0       0.0      0.0      0.0     0.0    0.0   \n",
       "1       1      1.0     0.0    0.0       0.0      0.0      0.0     0.0    1.0   \n",
       "2       1      1.0     0.0    0.0       0.0      0.0      0.0     0.0    1.0   \n",
       "3       4      0.0     1.0    0.0       0.0      0.0      0.0     0.0    0.0   \n",
       "4       3      0.0     0.0    1.0       0.0      0.0      0.0     0.0    1.0   \n",
       "\n",
       "   services  teacher  course  home  other  reputation  \n",
       "0       0.0      1.0     1.0   0.0    0.0         0.0  \n",
       "1       0.0      0.0     1.0   0.0    0.0         0.0  \n",
       "2       0.0      0.0     0.0   0.0    1.0         0.0  \n",
       "3       1.0      0.0     0.0   1.0    0.0         0.0  \n",
       "4       0.0      0.0     0.0   1.0    0.0         0.0  "
      ]
     },
     "execution_count": 543,
     "metadata": {},
     "output_type": "execute_result"
    }
   ],
   "source": [
    "df.head()"
   ]
  },
  {
   "cell_type": "code",
   "execution_count": 544,
   "metadata": {
    "collapsed": true
   },
   "outputs": [],
   "source": [
    "df = df.astype('int64')"
   ]
  },
  {
   "cell_type": "code",
   "execution_count": 545,
   "metadata": {
    "collapsed": true
   },
   "outputs": [],
   "source": [
    "#Now lets check a bunch of different regressors to see which one preforms the best on this data. I am going to add the train and\n",
    "#test scores for the same groupings for each test into a dataset to easily compare them\n",
    "X = df.drop('AvgG',1)\n",
    "y = df.AvgG"
   ]
  },
  {
   "cell_type": "code",
   "execution_count": 546,
   "metadata": {
    "collapsed": false
   },
   "outputs": [],
   "source": [
    "X_train, X_test, y_train, y_test = train_test_split(X, y, test_size=0.5, random_state=0)\n",
    "rfc = ensemble.RandomForestRegressor()\n",
    "rfc.fit(X_train,y_train)\n",
    "rfc_train = rfc.score(X_train,y_train)\n",
    "rfc_test = rfc.score(X_test,y_test)"
   ]
  },
  {
   "cell_type": "code",
   "execution_count": 547,
   "metadata": {
    "collapsed": false
   },
   "outputs": [],
   "source": [
    "gbc = ensemble.GradientBoostingRegressor()\n",
    "gbc.fit(X_train,y_train)\n",
    "gbc_train = gbc.score(X_train,y_train)\n",
    "gbc_test = gbc.score(X_test,y_test)"
   ]
  },
  {
   "cell_type": "code",
   "execution_count": 548,
   "metadata": {
    "collapsed": false
   },
   "outputs": [],
   "source": [
    "svr = svm.SVR()\n",
    "svr.fit(X_train,y_train)\n",
    "svr_train = svr.score(X_train,y_train)\n",
    "svr_test = svr.score(X_test,y_test)"
   ]
  },
  {
   "cell_type": "code",
   "execution_count": 549,
   "metadata": {
    "collapsed": false
   },
   "outputs": [],
   "source": [
    "knn = KNeighborsRegressor()\n",
    "knn.fit(X_train,y_train)\n",
    "knn_train = knn.score(X_train,y_train)\n",
    "knn_test = knn.score(X_test,y_test)"
   ]
  },
  {
   "cell_type": "code",
   "execution_count": 550,
   "metadata": {
    "collapsed": false
   },
   "outputs": [],
   "source": [
    "lr = linear_model.LinearRegression()\n",
    "lr.fit(X_train,y_train)\n",
    "lr_train = lr.score(X_train,y_train)\n",
    "lr_test = lr.score(X_test,y_test)"
   ]
  },
  {
   "cell_type": "code",
   "execution_count": 551,
   "metadata": {
    "collapsed": false
   },
   "outputs": [
    {
     "data": {
      "text/html": [
       "<div>\n",
       "<table border=\"1\" class=\"dataframe\">\n",
       "  <thead>\n",
       "    <tr style=\"text-align: right;\">\n",
       "      <th></th>\n",
       "      <th>train_score</th>\n",
       "      <th>test_scoret_score</th>\n",
       "    </tr>\n",
       "  </thead>\n",
       "  <tbody>\n",
       "    <tr>\n",
       "      <th>random forest</th>\n",
       "      <td>0.878941</td>\n",
       "      <td>0.237726</td>\n",
       "    </tr>\n",
       "    <tr>\n",
       "      <th>gradient boost</th>\n",
       "      <td>0.774130</td>\n",
       "      <td>0.297748</td>\n",
       "    </tr>\n",
       "    <tr>\n",
       "      <th>svr</th>\n",
       "      <td>0.412718</td>\n",
       "      <td>0.236377</td>\n",
       "    </tr>\n",
       "    <tr>\n",
       "      <th>knn</th>\n",
       "      <td>0.393848</td>\n",
       "      <td>0.069560</td>\n",
       "    </tr>\n",
       "    <tr>\n",
       "      <th>linear</th>\n",
       "      <td>0.428749</td>\n",
       "      <td>0.284749</td>\n",
       "    </tr>\n",
       "  </tbody>\n",
       "</table>\n",
       "</div>"
      ],
      "text/plain": [
       "                train_score  test_scoret_score\n",
       "random forest      0.878941           0.237726\n",
       "gradient boost     0.774130           0.297748\n",
       "svr                0.412718           0.236377\n",
       "knn                0.393848           0.069560\n",
       "linear             0.428749           0.284749"
      ]
     },
     "execution_count": 551,
     "metadata": {},
     "output_type": "execute_result"
    }
   ],
   "source": [
    "scores = pd.DataFrame()\n",
    "scores['train_score'] = [rfc_train, gbc_train, svr_train, knn_train, lr_train]\n",
    "scores['test_scoret_score'] = [rfc_test, gbc_test, svr_test, knn_test, lr_test]\n",
    "scores.index = ['random forest', 'gradient boost', 'svr', 'knn', 'linear']\n",
    "scores"
   ]
  },
  {
   "cell_type": "code",
   "execution_count": 552,
   "metadata": {
    "collapsed": false
   },
   "outputs": [
    {
     "data": {
      "text/html": [
       "<div>\n",
       "<table border=\"1\" class=\"dataframe\">\n",
       "  <thead>\n",
       "    <tr style=\"text-align: right;\">\n",
       "      <th></th>\n",
       "      <th>school</th>\n",
       "      <th>sex</th>\n",
       "      <th>age</th>\n",
       "      <th>address</th>\n",
       "      <th>famsize</th>\n",
       "      <th>Pstatus</th>\n",
       "      <th>Mjob</th>\n",
       "      <th>Fjob</th>\n",
       "      <th>reason</th>\n",
       "      <th>traveltime</th>\n",
       "      <th>studytime</th>\n",
       "      <th>failures</th>\n",
       "      <th>schoolsup</th>\n",
       "      <th>famsup</th>\n",
       "      <th>paid</th>\n",
       "      <th>activities</th>\n",
       "      <th>nursery</th>\n",
       "      <th>higher</th>\n",
       "      <th>internet</th>\n",
       "      <th>romantic</th>\n",
       "      <th>famrel</th>\n",
       "      <th>freetime</th>\n",
       "      <th>goout</th>\n",
       "      <th>Walc</th>\n",
       "      <th>health</th>\n",
       "      <th>absences</th>\n",
       "      <th>AvgG</th>\n",
       "      <th>Famedu</th>\n",
       "    </tr>\n",
       "  </thead>\n",
       "  <tbody>\n",
       "    <tr>\n",
       "      <th>0</th>\n",
       "      <td>1.0</td>\n",
       "      <td>1.0</td>\n",
       "      <td>3</td>\n",
       "      <td>0.0</td>\n",
       "      <td>1.0</td>\n",
       "      <td>1.0</td>\n",
       "      <td>0</td>\n",
       "      <td>4</td>\n",
       "      <td>0</td>\n",
       "      <td>2</td>\n",
       "      <td>2</td>\n",
       "      <td>0</td>\n",
       "      <td>0.0</td>\n",
       "      <td>1.0</td>\n",
       "      <td>1.0</td>\n",
       "      <td>1.0</td>\n",
       "      <td>0.0</td>\n",
       "      <td>0.0</td>\n",
       "      <td>1.0</td>\n",
       "      <td>1.0</td>\n",
       "      <td>4</td>\n",
       "      <td>3</td>\n",
       "      <td>4</td>\n",
       "      <td>2</td>\n",
       "      <td>3</td>\n",
       "      <td>4</td>\n",
       "      <td>7.333333</td>\n",
       "      <td>4</td>\n",
       "    </tr>\n",
       "    <tr>\n",
       "      <th>1</th>\n",
       "      <td>1.0</td>\n",
       "      <td>1.0</td>\n",
       "      <td>2</td>\n",
       "      <td>0.0</td>\n",
       "      <td>1.0</td>\n",
       "      <td>0.0</td>\n",
       "      <td>0</td>\n",
       "      <td>2</td>\n",
       "      <td>0</td>\n",
       "      <td>1</td>\n",
       "      <td>2</td>\n",
       "      <td>0</td>\n",
       "      <td>1.0</td>\n",
       "      <td>0.0</td>\n",
       "      <td>1.0</td>\n",
       "      <td>1.0</td>\n",
       "      <td>1.0</td>\n",
       "      <td>0.0</td>\n",
       "      <td>0.0</td>\n",
       "      <td>1.0</td>\n",
       "      <td>5</td>\n",
       "      <td>3</td>\n",
       "      <td>3</td>\n",
       "      <td>2</td>\n",
       "      <td>3</td>\n",
       "      <td>2</td>\n",
       "      <td>10.333333</td>\n",
       "      <td>1</td>\n",
       "    </tr>\n",
       "    <tr>\n",
       "      <th>2</th>\n",
       "      <td>1.0</td>\n",
       "      <td>1.0</td>\n",
       "      <td>0</td>\n",
       "      <td>0.0</td>\n",
       "      <td>0.0</td>\n",
       "      <td>0.0</td>\n",
       "      <td>0</td>\n",
       "      <td>2</td>\n",
       "      <td>2</td>\n",
       "      <td>1</td>\n",
       "      <td>2</td>\n",
       "      <td>0</td>\n",
       "      <td>0.0</td>\n",
       "      <td>1.0</td>\n",
       "      <td>1.0</td>\n",
       "      <td>1.0</td>\n",
       "      <td>0.0</td>\n",
       "      <td>0.0</td>\n",
       "      <td>0.0</td>\n",
       "      <td>1.0</td>\n",
       "      <td>4</td>\n",
       "      <td>3</td>\n",
       "      <td>2</td>\n",
       "      <td>5</td>\n",
       "      <td>3</td>\n",
       "      <td>6</td>\n",
       "      <td>12.333333</td>\n",
       "      <td>1</td>\n",
       "    </tr>\n",
       "    <tr>\n",
       "      <th>3</th>\n",
       "      <td>1.0</td>\n",
       "      <td>1.0</td>\n",
       "      <td>0</td>\n",
       "      <td>0.0</td>\n",
       "      <td>1.0</td>\n",
       "      <td>0.0</td>\n",
       "      <td>1</td>\n",
       "      <td>3</td>\n",
       "      <td>1</td>\n",
       "      <td>1</td>\n",
       "      <td>3</td>\n",
       "      <td>0</td>\n",
       "      <td>1.0</td>\n",
       "      <td>0.0</td>\n",
       "      <td>1.0</td>\n",
       "      <td>0.0</td>\n",
       "      <td>0.0</td>\n",
       "      <td>0.0</td>\n",
       "      <td>0.0</td>\n",
       "      <td>0.0</td>\n",
       "      <td>3</td>\n",
       "      <td>2</td>\n",
       "      <td>2</td>\n",
       "      <td>2</td>\n",
       "      <td>5</td>\n",
       "      <td>0</td>\n",
       "      <td>14.000000</td>\n",
       "      <td>4</td>\n",
       "    </tr>\n",
       "    <tr>\n",
       "      <th>4</th>\n",
       "      <td>1.0</td>\n",
       "      <td>1.0</td>\n",
       "      <td>1</td>\n",
       "      <td>0.0</td>\n",
       "      <td>1.0</td>\n",
       "      <td>0.0</td>\n",
       "      <td>2</td>\n",
       "      <td>2</td>\n",
       "      <td>1</td>\n",
       "      <td>1</td>\n",
       "      <td>2</td>\n",
       "      <td>0</td>\n",
       "      <td>1.0</td>\n",
       "      <td>0.0</td>\n",
       "      <td>1.0</td>\n",
       "      <td>1.0</td>\n",
       "      <td>0.0</td>\n",
       "      <td>0.0</td>\n",
       "      <td>1.0</td>\n",
       "      <td>1.0</td>\n",
       "      <td>4</td>\n",
       "      <td>3</td>\n",
       "      <td>2</td>\n",
       "      <td>3</td>\n",
       "      <td>5</td>\n",
       "      <td>0</td>\n",
       "      <td>12.333333</td>\n",
       "      <td>3</td>\n",
       "    </tr>\n",
       "  </tbody>\n",
       "</table>\n",
       "</div>"
      ],
      "text/plain": [
       "   school  sex  age  address  famsize  Pstatus  Mjob  Fjob  reason  \\\n",
       "0     1.0  1.0    3      0.0      1.0      1.0     0     4       0   \n",
       "1     1.0  1.0    2      0.0      1.0      0.0     0     2       0   \n",
       "2     1.0  1.0    0      0.0      0.0      0.0     0     2       2   \n",
       "3     1.0  1.0    0      0.0      1.0      0.0     1     3       1   \n",
       "4     1.0  1.0    1      0.0      1.0      0.0     2     2       1   \n",
       "\n",
       "   traveltime  studytime  failures  schoolsup  famsup  paid  activities  \\\n",
       "0           2          2         0        0.0     1.0   1.0         1.0   \n",
       "1           1          2         0        1.0     0.0   1.0         1.0   \n",
       "2           1          2         0        0.0     1.0   1.0         1.0   \n",
       "3           1          3         0        1.0     0.0   1.0         0.0   \n",
       "4           1          2         0        1.0     0.0   1.0         1.0   \n",
       "\n",
       "   nursery  higher  internet  romantic  famrel  freetime  goout  Walc  health  \\\n",
       "0      0.0     0.0       1.0       1.0       4         3      4     2       3   \n",
       "1      1.0     0.0       0.0       1.0       5         3      3     2       3   \n",
       "2      0.0     0.0       0.0       1.0       4         3      2     5       3   \n",
       "3      0.0     0.0       0.0       0.0       3         2      2     2       5   \n",
       "4      0.0     0.0       1.0       1.0       4         3      2     3       5   \n",
       "\n",
       "   absences       AvgG  Famedu  \n",
       "0         4   7.333333       4  \n",
       "1         2  10.333333       1  \n",
       "2         6  12.333333       1  \n",
       "3         0  14.000000       4  \n",
       "4         0  12.333333       3  "
      ]
     },
     "execution_count": 552,
     "metadata": {},
     "output_type": "execute_result"
    }
   ],
   "source": [
    "#lets go ahead and try the same thing with label encoded variables like we discussed earlier to see if this improves anything\n",
    "l2 =['age', 'Mjob', 'Fjob', 'reason']\n",
    "for x in l2:\n",
    "    le = preprocessing.LabelEncoder()\n",
    "    le.fit(df_labelencode[x])\n",
    "    df_labelencode[x] = le.transform(df_labelencode[x])\n",
    "df_labelencode.head()"
   ]
  },
  {
   "cell_type": "code",
   "execution_count": 553,
   "metadata": {
    "collapsed": false
   },
   "outputs": [
    {
     "data": {
      "text/html": [
       "<div>\n",
       "<table border=\"1\" class=\"dataframe\">\n",
       "  <thead>\n",
       "    <tr style=\"text-align: right;\">\n",
       "      <th></th>\n",
       "      <th>train_score</th>\n",
       "      <th>test_score</th>\n",
       "    </tr>\n",
       "  </thead>\n",
       "  <tbody>\n",
       "    <tr>\n",
       "      <th>random forest</th>\n",
       "      <td>0.877692</td>\n",
       "      <td>0.276354</td>\n",
       "    </tr>\n",
       "    <tr>\n",
       "      <th>gradient boost</th>\n",
       "      <td>0.772878</td>\n",
       "      <td>0.310519</td>\n",
       "    </tr>\n",
       "    <tr>\n",
       "      <th>svr</th>\n",
       "      <td>0.456423</td>\n",
       "      <td>0.236806</td>\n",
       "    </tr>\n",
       "    <tr>\n",
       "      <th>knn</th>\n",
       "      <td>0.392973</td>\n",
       "      <td>0.092396</td>\n",
       "    </tr>\n",
       "    <tr>\n",
       "      <th>linear</th>\n",
       "      <td>0.396572</td>\n",
       "      <td>0.304401</td>\n",
       "    </tr>\n",
       "  </tbody>\n",
       "</table>\n",
       "</div>"
      ],
      "text/plain": [
       "                train_score  test_score\n",
       "random forest      0.877692    0.276354\n",
       "gradient boost     0.772878    0.310519\n",
       "svr                0.456423    0.236806\n",
       "knn                0.392973    0.092396\n",
       "linear             0.396572    0.304401"
      ]
     },
     "execution_count": 553,
     "metadata": {},
     "output_type": "execute_result"
    }
   ],
   "source": [
    "X = df_labelencode.drop('AvgG',1)\n",
    "y = df_labelencode.AvgG\n",
    "\n",
    "X_train, X_test, y_train, y_test = train_test_split(X, y, test_size=0.5, random_state=0)\n",
    "\n",
    "rfc = ensemble.RandomForestRegressor()\n",
    "rfc.fit(X_train,y_train)\n",
    "rfc_train = rfc.score(X_train,y_train)\n",
    "rfc_test = rfc.score(X_test,y_test)\n",
    "\n",
    "gbc = ensemble.GradientBoostingRegressor()\n",
    "gbc.fit(X_train,y_train)\n",
    "gbc_train = gbc.score(X_train,y_train)\n",
    "gbc_test = gbc.score(X_test,y_test)\n",
    "\n",
    "svr = svm.SVR()\n",
    "svr.fit(X_train,y_train)\n",
    "svr_train = svr.score(X_train,y_train)\n",
    "svr_test = svr.score(X_test,y_test)\n",
    "\n",
    "knn = KNeighborsRegressor()\n",
    "knn.fit(X_train,y_train)\n",
    "knn_train = knn.score(X_train,y_train)\n",
    "knn_test = knn.score(X_test,y_test)\n",
    "\n",
    "lr = linear_model.LinearRegression()\n",
    "lr.fit(X_train,y_train)\n",
    "lr_train = lr.score(X_train,y_train)\n",
    "lr_test = lr.score(X_test,y_test)\n",
    "\n",
    "scores = pd.DataFrame()\n",
    "scores['train_score'] = [rfc_train, gbc_train, svr_train, knn_train, lr_train]\n",
    "scores['test_score'] = [rfc_test, gbc_test, svr_test, knn_test, lr_test]\n",
    "scores.index = ['random forest', 'gradient boost', 'svr', 'knn', 'linear']\n",
    "scores"
   ]
  },
  {
   "cell_type": "code",
   "execution_count": 554,
   "metadata": {
    "collapsed": true
   },
   "outputs": [],
   "source": [
    "#these tests all show a clear pattern: the train set are overfitting the data way too much and we have to solve this\n",
    "#in order to use this data we will likely have to turn the dependent varaible into a categorical variable instead of \n",
    "#a continuous one. There are a few different options here. We are going to try two and see which one improves performance\n",
    "#more. We are going to seperate the kids into people who are likely to fail or pass and we are going to seperate kids\n",
    "#who are exceptional, average, and under-performing. lets make another copy of the data set to try that first\n",
    "df = df_labelencode.copy()\n",
    "df1 = df_labelencode.copy()\n",
    "df2 = df_labelencode.copy()"
   ]
  },
  {
   "cell_type": "code",
   "execution_count": 555,
   "metadata": {
    "collapsed": false
   },
   "outputs": [
    {
     "data": {
      "text/plain": [
       "AvgG\n",
       "0.0     47\n",
       "1.0    445\n",
       "2.0    157\n",
       "Name: AvgG, dtype: int64"
      ]
     },
     "execution_count": 555,
     "metadata": {},
     "output_type": "execute_result"
    }
   ],
   "source": [
    "#according to https://www.classbase.com/countries/Portugal/Grading-System, anything 10 or above is passing and anything 16 or \n",
    "#above is considered honors. Lets define those at the cut offs for the scale and see if the data roughly evenly distributed \n",
    "#where 0 is honors, 1 is average and 2 is failures\n",
    "df1['AvgG'] = np.where(df1['AvgG'] >= 16, 0, df1['AvgG'])\n",
    "df1['AvgG'] = np.where(df1['AvgG'] >= 10, 1, df1['AvgG'])\n",
    "df1['AvgG'] = np.where(df1['AvgG'] > 1, 2, df1['AvgG'])\n",
    "df1['AvgG'].groupby(df1['AvgG']).count()"
   ]
  },
  {
   "cell_type": "code",
   "execution_count": 556,
   "metadata": {
    "collapsed": false
   },
   "outputs": [
    {
     "data": {
      "text/plain": [
       "AvgG\n",
       "0.0    213\n",
       "1.0    279\n",
       "2.0    157\n",
       "Name: AvgG, dtype: int64"
      ]
     },
     "execution_count": 556,
     "metadata": {},
     "output_type": "execute_result"
    }
   ],
   "source": [
    "#looks like there are too many average students and not enough with honors. Lets lower the cutoff a little until the groups \n",
    "#are closer\n",
    "df2['AvgG'] = np.where(df2['AvgG'] >= 13, 0, df2['AvgG'])\n",
    "df2['AvgG'] = np.where(df2['AvgG'] >= 10, 1, df2['AvgG'])\n",
    "df2['AvgG'] = np.where(df2['AvgG'] > 1, 2, df2['AvgG'])\n",
    "df2['AvgG'].groupby(df2['AvgG']).count()"
   ]
  },
  {
   "cell_type": "code",
   "execution_count": 557,
   "metadata": {
    "collapsed": true
   },
   "outputs": [],
   "source": [
    "X = df2.drop('AvgG', 1)\n",
    "y = df2.AvgG"
   ]
  },
  {
   "cell_type": "code",
   "execution_count": 558,
   "metadata": {
    "collapsed": true
   },
   "outputs": [],
   "source": [
    "X_train, X_test, y_train, y_test = train_test_split(X, y, test_size=0.5, random_state=0)"
   ]
  },
  {
   "cell_type": "code",
   "execution_count": 559,
   "metadata": {
    "collapsed": false
   },
   "outputs": [
    {
     "name": "stdout",
     "output_type": "stream",
     "text": [
      "0.987654320988\n"
     ]
    },
    {
     "data": {
      "text/plain": [
       "0.47384615384615386"
      ]
     },
     "execution_count": 559,
     "metadata": {},
     "output_type": "execute_result"
    }
   ],
   "source": [
    "rfc = ensemble.RandomForestClassifier()\n",
    "rfc.fit(X_train,y_train)\n",
    "print(rfc.score(X_train,y_train))\n",
    "rfc.score(X_test,y_test)"
   ]
  },
  {
   "cell_type": "code",
   "execution_count": 560,
   "metadata": {
    "collapsed": false
   },
   "outputs": [],
   "source": [
    "#This massivley improved the model from .86 to .98 and improved the train score from .20 to .53. Lets see if seperating the \n",
    "#group by failing and passing as well\n",
    "df['AvgG'] = np.where(df['AvgG'] >= 10, 1, 0)"
   ]
  },
  {
   "cell_type": "code",
   "execution_count": 561,
   "metadata": {
    "collapsed": false
   },
   "outputs": [
    {
     "data": {
      "text/plain": [
       "AvgG\n",
       "0    157\n",
       "1    492\n",
       "Name: AvgG, dtype: int64"
      ]
     },
     "execution_count": 561,
     "metadata": {},
     "output_type": "execute_result"
    }
   ],
   "source": [
    "df['AvgG'].groupby(df['AvgG']).count()"
   ]
  },
  {
   "cell_type": "code",
   "execution_count": 562,
   "metadata": {
    "collapsed": false
   },
   "outputs": [
    {
     "name": "stdout",
     "output_type": "stream",
     "text": [
      "0.993827160494\n"
     ]
    },
    {
     "data": {
      "text/plain": [
       "0.75384615384615383"
      ]
     },
     "execution_count": 562,
     "metadata": {},
     "output_type": "execute_result"
    }
   ],
   "source": [
    "#at first look, the 2 groups are not very even. Lets do the test and check error types to see if it improves the model\n",
    "X1 = df.drop('AvgG', 1)\n",
    "y1 = df.AvgG\n",
    "X_train1, X_test1, y_train1, y_test1 = train_test_split(X1, y1, test_size=0.5, random_state=0)\n",
    "rfc = ensemble.RandomForestClassifier()\n",
    "rfc.fit(X_train1,y_train1)\n",
    "print(rfc.score(X_train1,y_train1))\n",
    "rfc.score(X_test1,y_test1)"
   ]
  },
  {
   "cell_type": "code",
   "execution_count": 563,
   "metadata": {
    "collapsed": false,
    "scrolled": true
   },
   "outputs": [
    {
     "name": "stdout",
     "output_type": "stream",
     "text": [
      "Actual on top and predicted on left\n",
      "AvgG    0    1\n",
      "row_0         \n",
      "0      30   30\n",
      "1      50  215\n",
      "accurately predicted kids who failed\n",
      "0.375\n",
      "accurately predicted kids who passed\n",
      "0.877551020408\n"
     ]
    }
   ],
   "source": [
    "pred_y = rfc.predict(X_test1)\n",
    "crosstab = pd.crosstab(pred_y, y_test1)\n",
    "print('Actual on top and predicted on left')\n",
    "print(crosstab)\n",
    "print('accurately predicted kids who failed')\n",
    "print(crosstab.iloc[0,0]/(crosstab.iloc[0,0]+crosstab.iloc[1,0]))\n",
    "print('accurately predicted kids who passed')\n",
    "print(crosstab.iloc[1,1]/(crosstab.iloc[1,1]+crosstab.iloc[0,1]))"
   ]
  },
  {
   "cell_type": "code",
   "execution_count": 564,
   "metadata": {
    "collapsed": false
   },
   "outputs": [],
   "source": [
    "#as expected, the model  accurately predicts kids that pass, but does not accurately predict the kids who will fail.\n",
    "#lets try to even out the groups by dropping some of the kids who passed to make the group even\n",
    "number_of_fails = len(df[df.AvgG == 0])\n",
    "fail_indices = np.array(df[df.AvgG == 0].index)\n",
    "pass_indices = df[df.AvgG == 1].index\n",
    "random_pass_indices = np.array(np.random.choice(pass_indices, number_of_fails, replace = False))\n",
    "new_indices = np.concatenate([fail_indices,random_pass_indices])\n",
    "data = df.iloc[new_indices,:]\n",
    "X = data.drop('AvgG', 1)\n",
    "y = data.AvgG"
   ]
  },
  {
   "cell_type": "code",
   "execution_count": 565,
   "metadata": {
    "collapsed": false
   },
   "outputs": [
    {
     "name": "stdout",
     "output_type": "stream",
     "text": [
      "0.987261146497\n"
     ]
    },
    {
     "data": {
      "text/plain": [
       "0.68152866242038213"
      ]
     },
     "execution_count": 565,
     "metadata": {},
     "output_type": "execute_result"
    }
   ],
   "source": [
    "X_train, X_test, y_train, y_test = train_test_split(X, y, test_size=0.5, random_state=0)\n",
    "rfc = ensemble.RandomForestClassifier()\n",
    "rfc.fit(X_train,y_train)\n",
    "print(rfc.score(X_train,y_train))\n",
    "rfc.score(X_test,y_test)"
   ]
  },
  {
   "cell_type": "code",
   "execution_count": 566,
   "metadata": {
    "collapsed": false
   },
   "outputs": [
    {
     "name": "stdout",
     "output_type": "stream",
     "text": [
      "Actual on top and predicted on left\n",
      "AvgG    0   1\n",
      "row_0        \n",
      "0      54  24\n",
      "1      26  53\n",
      "accurately predicted kids who failed\n",
      "0.675\n",
      "accurately predicted kids who passed\n",
      "0.688311688312\n"
     ]
    }
   ],
   "source": [
    "pred_y = rfc.predict(X_test)\n",
    "crosstab = pd.crosstab(pred_y, y_test)\n",
    "print('Actual on top and predicted on left')\n",
    "print(crosstab)\n",
    "print('accurately predicted kids who failed')\n",
    "print(crosstab.iloc[0,0]/(crosstab.iloc[0,0]+crosstab.iloc[1,0]))\n",
    "print('accurately predicted kids who passed')\n",
    "print(crosstab.iloc[1,1]/(crosstab.iloc[1,1]+crosstab.iloc[0,1]))"
   ]
  },
  {
   "cell_type": "code",
   "execution_count": 567,
   "metadata": {
    "collapsed": false
   },
   "outputs": [
    {
     "name": "stdout",
     "output_type": "stream",
     "text": [
      "Actual on top and predicted on left\n",
      "AvgG     0    1\n",
      "row_0          \n",
      "0      131  132\n",
      "1       26  360\n",
      "accurately predicted kids who failed\n",
      "0.834394904459\n",
      "accurately predicted kids who passed\n",
      "0.731707317073\n",
      "entire set score\n",
      "0.75654853621\n"
     ]
    }
   ],
   "source": [
    "pred_y = rfc.predict(X1)\n",
    "crosstab = pd.crosstab(pred_y, y1)\n",
    "print('Actual on top and predicted on left')\n",
    "print(crosstab)\n",
    "print('accurately predicted kids who failed')\n",
    "print(crosstab.iloc[0,0]/(crosstab.iloc[0,0]+crosstab.iloc[1,0]))\n",
    "print('accurately predicted kids who passed')\n",
    "print(crosstab.iloc[1,1]/(crosstab.iloc[1,1]+crosstab.iloc[0,1]))\n",
    "print('entire set score')\n",
    "print(rfc.score(X1,y1))"
   ]
  },
  {
   "cell_type": "code",
   "execution_count": 568,
   "metadata": {
    "collapsed": false
   },
   "outputs": [
    {
     "data": {
      "image/png": "[encoded data removed]",
      "text/plain": [
       "<matplotlib.figure.Figure at 0x213b7819e10>"
      ]
     },
     "metadata": {},
     "output_type": "display_data"
    }
   ],
   "source": [
    "#lets check and plot the feature importance\n",
    "feature_importance = rfc.feature_importances_\n",
    "# Make importances relative to max importance.\n",
    "feature_importance = 100.0 * (feature_importance / feature_importance.max())\n",
    "sorted_idx = np.argsort(feature_importance)\n",
    "pos = np.arange(sorted_idx.shape[0]) + .5\n",
    "plt.subplot(1, 2, 2)\n",
    "plt.barh(pos, feature_importance[sorted_idx], align='center')\n",
    "plt.yticks(pos, X.columns[sorted_idx])\n",
    "plt.xlabel('Relative Importance')\n",
    "plt.title('Variable Importance')\n",
    "plt.show()"
   ]
  },
  {
   "cell_type": "code",
   "execution_count": 569,
   "metadata": {
    "collapsed": false
   },
   "outputs": [
    {
     "name": "stderr",
     "output_type": "stream",
     "text": [
      "C:\\Users\\jmfra\\Anaconda3\\lib\\site-packages\\ipykernel\\__main__.py:5: SettingWithCopyWarning: \n",
      "A value is trying to be set on a copy of a slice from a DataFrame.\n",
      "Try using .loc[row_indexer,col_indexer] = value instead\n",
      "\n",
      "See the caveats in the documentation: http://pandas.pydata.org/pandas-docs/stable/indexing.html#indexing-view-versus-copy\n"
     ]
    }
   ],
   "source": [
    "#lets try PCA on some of the least important features to try and improve the model\n",
    "unimp = data[['romantic', 'sex', 'internet', 'address', 'paid', \n",
    "                        'schoolsup', 'Pstatus', 'nursery', 'famsup', 'age']]\n",
    "pca = PCA(n_components=1)\n",
    "pca.fit(unimp)\n",
    "data['PCA'] = pca.transform(unimp)\n",
    "data = data.drop(['romantic', 'sex', 'internet', 'address', \n",
    "                                      'paid', 'schoolsup', 'Pstatus', 'nursery', \n",
    "                                      'famsup', 'famsize'],1)"
   ]
  },
  {
   "cell_type": "code",
   "execution_count": 570,
   "metadata": {
    "collapsed": false
   },
   "outputs": [
    {
     "data": {
      "text/html": [
       "<div>\n",
       "<table border=\"1\" class=\"dataframe\">\n",
       "  <thead>\n",
       "    <tr style=\"text-align: right;\">\n",
       "      <th></th>\n",
       "      <th>school</th>\n",
       "      <th>age</th>\n",
       "      <th>Mjob</th>\n",
       "      <th>Fjob</th>\n",
       "      <th>reason</th>\n",
       "      <th>traveltime</th>\n",
       "      <th>studytime</th>\n",
       "      <th>failures</th>\n",
       "      <th>activities</th>\n",
       "      <th>higher</th>\n",
       "      <th>famrel</th>\n",
       "      <th>freetime</th>\n",
       "      <th>goout</th>\n",
       "      <th>Walc</th>\n",
       "      <th>health</th>\n",
       "      <th>absences</th>\n",
       "      <th>AvgG</th>\n",
       "      <th>Famedu</th>\n",
       "      <th>PCA</th>\n",
       "    </tr>\n",
       "  </thead>\n",
       "  <tbody>\n",
       "    <tr>\n",
       "      <th>0</th>\n",
       "      <td>1.0</td>\n",
       "      <td>3</td>\n",
       "      <td>0</td>\n",
       "      <td>4</td>\n",
       "      <td>0</td>\n",
       "      <td>2</td>\n",
       "      <td>2</td>\n",
       "      <td>0</td>\n",
       "      <td>1.0</td>\n",
       "      <td>0.0</td>\n",
       "      <td>4</td>\n",
       "      <td>3</td>\n",
       "      <td>4</td>\n",
       "      <td>2</td>\n",
       "      <td>3</td>\n",
       "      <td>4</td>\n",
       "      <td>0</td>\n",
       "      <td>4</td>\n",
       "      <td>1.110956</td>\n",
       "    </tr>\n",
       "    <tr>\n",
       "      <th>18</th>\n",
       "      <td>1.0</td>\n",
       "      <td>2</td>\n",
       "      <td>3</td>\n",
       "      <td>3</td>\n",
       "      <td>0</td>\n",
       "      <td>1</td>\n",
       "      <td>1</td>\n",
       "      <td>3</td>\n",
       "      <td>0.0</td>\n",
       "      <td>0.0</td>\n",
       "      <td>5</td>\n",
       "      <td>5</td>\n",
       "      <td>5</td>\n",
       "      <td>6</td>\n",
       "      <td>5</td>\n",
       "      <td>2</td>\n",
       "      <td>0</td>\n",
       "      <td>3</td>\n",
       "      <td>0.097456</td>\n",
       "    </tr>\n",
       "    <tr>\n",
       "      <th>43</th>\n",
       "      <td>1.0</td>\n",
       "      <td>0</td>\n",
       "      <td>3</td>\n",
       "      <td>3</td>\n",
       "      <td>0</td>\n",
       "      <td>1</td>\n",
       "      <td>1</td>\n",
       "      <td>0</td>\n",
       "      <td>1.0</td>\n",
       "      <td>0.0</td>\n",
       "      <td>5</td>\n",
       "      <td>4</td>\n",
       "      <td>1</td>\n",
       "      <td>2</td>\n",
       "      <td>1</td>\n",
       "      <td>0</td>\n",
       "      <td>0</td>\n",
       "      <td>2</td>\n",
       "      <td>-1.930028</td>\n",
       "    </tr>\n",
       "    <tr>\n",
       "      <th>52</th>\n",
       "      <td>1.0</td>\n",
       "      <td>0</td>\n",
       "      <td>1</td>\n",
       "      <td>1</td>\n",
       "      <td>2</td>\n",
       "      <td>2</td>\n",
       "      <td>1</td>\n",
       "      <td>0</td>\n",
       "      <td>1.0</td>\n",
       "      <td>0.0</td>\n",
       "      <td>5</td>\n",
       "      <td>5</td>\n",
       "      <td>5</td>\n",
       "      <td>7</td>\n",
       "      <td>5</td>\n",
       "      <td>4</td>\n",
       "      <td>0</td>\n",
       "      <td>4</td>\n",
       "      <td>-1.842525</td>\n",
       "    </tr>\n",
       "    <tr>\n",
       "      <th>67</th>\n",
       "      <td>1.0</td>\n",
       "      <td>1</td>\n",
       "      <td>3</td>\n",
       "      <td>2</td>\n",
       "      <td>0</td>\n",
       "      <td>1</td>\n",
       "      <td>4</td>\n",
       "      <td>0</td>\n",
       "      <td>1.0</td>\n",
       "      <td>0.0</td>\n",
       "      <td>4</td>\n",
       "      <td>3</td>\n",
       "      <td>3</td>\n",
       "      <td>3</td>\n",
       "      <td>5</td>\n",
       "      <td>0</td>\n",
       "      <td>0</td>\n",
       "      <td>3</td>\n",
       "      <td>-0.927364</td>\n",
       "    </tr>\n",
       "  </tbody>\n",
       "</table>\n",
       "</div>"
      ],
      "text/plain": [
       "    school  age  Mjob  Fjob  reason  traveltime  studytime  failures  \\\n",
       "0      1.0    3     0     4       0           2          2         0   \n",
       "18     1.0    2     3     3       0           1          1         3   \n",
       "43     1.0    0     3     3       0           1          1         0   \n",
       "52     1.0    0     1     1       2           2          1         0   \n",
       "67     1.0    1     3     2       0           1          4         0   \n",
       "\n",
       "    activities  higher  famrel  freetime  goout  Walc  health  absences  AvgG  \\\n",
       "0          1.0     0.0       4         3      4     2       3         4     0   \n",
       "18         0.0     0.0       5         5      5     6       5         2     0   \n",
       "43         1.0     0.0       5         4      1     2       1         0     0   \n",
       "52         1.0     0.0       5         5      5     7       5         4     0   \n",
       "67         1.0     0.0       4         3      3     3       5         0     0   \n",
       "\n",
       "    Famedu       PCA  \n",
       "0        4  1.110956  \n",
       "18       3  0.097456  \n",
       "43       2 -1.930028  \n",
       "52       4 -1.842525  \n",
       "67       3 -0.927364  "
      ]
     },
     "execution_count": 570,
     "metadata": {},
     "output_type": "execute_result"
    }
   ],
   "source": [
    "data.head()"
   ]
  },
  {
   "cell_type": "code",
   "execution_count": 571,
   "metadata": {
    "collapsed": false
   },
   "outputs": [],
   "source": [
    "data = data.astype('int64')"
   ]
  },
  {
   "cell_type": "code",
   "execution_count": 572,
   "metadata": {
    "collapsed": false
   },
   "outputs": [
    {
     "name": "stdout",
     "output_type": "stream",
     "text": [
      "0.974522292994\n"
     ]
    },
    {
     "data": {
      "text/plain": [
       "0.72611464968152861"
      ]
     },
     "execution_count": 572,
     "metadata": {},
     "output_type": "execute_result"
    }
   ],
   "source": [
    "X = data.drop('AvgG',1)\n",
    "y = data.AvgG\n",
    "X_train, X_test, y_train, y_test = train_test_split(X, y, test_size=0.5, random_state=0)\n",
    "rfc = ensemble.RandomForestClassifier()\n",
    "rfc.fit(X_train,y_train)\n",
    "print(rfc.score(X_train,y_train))\n",
    "rfc.score(X_test,y_test)"
   ]
  },
  {
   "cell_type": "code",
   "execution_count": 573,
   "metadata": {
    "collapsed": false
   },
   "outputs": [
    {
     "name": "stdout",
     "output_type": "stream",
     "text": [
      "Actual on top and predicted on left\n",
      "AvgG     0    1\n",
      "row_0          \n",
      "0      137   27\n",
      "1       20  130\n",
      "accurately predicted kids who failed\n",
      "0.872611464968\n",
      "accurately predicted kids who passed\n",
      "0.828025477707\n",
      "entire set score\n",
      "0.850318471338\n"
     ]
    }
   ],
   "source": [
    "pred_y = rfc.predict(X)\n",
    "crosstab = pd.crosstab(pred_y, y)\n",
    "print('Actual on top and predicted on left')\n",
    "print(crosstab)\n",
    "print('accurately predicted kids who failed')\n",
    "print(crosstab.iloc[0,0]/(crosstab.iloc[0,0]+crosstab.iloc[1,0]))\n",
    "print('accurately predicted kids who passed')\n",
    "print(crosstab.iloc[1,1]/(crosstab.iloc[1,1]+crosstab.iloc[0,1]))\n",
    "print('entire set score')\n",
    "print(rfc.score(X,y))"
   ]
  },
  {
   "cell_type": "markdown",
   "metadata": {},
   "source": [
    "After all the changes made in this notebook it is obvious that the model will always overfit the training set that we give it. I could not get a consistent test set score above .8 and could only improve the most important variable to around .75. The data was only collected over 1 year with one input for each individual student and without more rows, it is very unlikely the model will ever improve. \n",
    "\n",
    "I think this project could be massively improved by taking data over a wider range of schools (this set only included 2) and over a few years. "
   ]
  },
  {
   "cell_type": "code",
   "execution_count": null,
   "metadata": {
    "collapsed": true
   },
   "outputs": [],
   "source": []
  }
 ],
 "metadata": {
  "anaconda-cloud": {},
  "kernelspec": {
   "display_name": "Python [default]",
   "language": "python",
   "name": "python3"
  },
  "language_info": {
   "codemirror_mode": {
    "name": "ipython",
    "version": 3
   },
   "file_extension": ".py",
   "mimetype": "text/x-python",
   "name": "python",
   "nbconvert_exporter": "python",
   "pygments_lexer": "ipython3",
   "version": "3.5.2"
  }
 },
 "nbformat": 4,
 "nbformat_minor": 1
}
